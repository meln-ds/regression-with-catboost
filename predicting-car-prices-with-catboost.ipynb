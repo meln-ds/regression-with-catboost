{
 "cells": [
  {
   "cell_type": "markdown",
   "execution_count": null,
   "metadata": {
    "toc": true
   },
   "source": [
    "<h1>Table of Contents<span class=\"tocSkip\"></span></h1>\n",
    "<div class=\"toc\"><ul class=\"toc-item\"><li><span><a href=\"#Import-libraries\" data-toc-modified-id=\"Import-libraries-1\"><span class=\"toc-item-num\">1&nbsp;&nbsp;</span>Import libraries</a></span></li><li><span><a href=\"#Locally-defined-functions\" data-toc-modified-id=\"Locally-defined-functions-2\"><span class=\"toc-item-num\">2&nbsp;&nbsp;</span>Locally defined functions</a></span><ul class=\"toc-item\"><li><span><a href=\"#Metrics\" data-toc-modified-id=\"Metrics-2.1\"><span class=\"toc-item-num\">2.1&nbsp;&nbsp;</span>Metrics</a></span></li><li><span><a href=\"#Display-functions\" data-toc-modified-id=\"Display-functions-2.2\"><span class=\"toc-item-num\">2.2&nbsp;&nbsp;</span>Display functions</a></span></li><li><span><a href=\"#Define-features\" data-toc-modified-id=\"Define-features-2.3\"><span class=\"toc-item-num\">2.3&nbsp;&nbsp;</span>Define features</a></span></li></ul></li><li><span><a href=\"#Global-options\" data-toc-modified-id=\"Global-options-3\"><span class=\"toc-item-num\">3&nbsp;&nbsp;</span>Global options</a></span></li><li><span><a href=\"#Load--data\" data-toc-modified-id=\"Load--data-4\"><span class=\"toc-item-num\">4&nbsp;&nbsp;</span>Load  data</a></span><ul class=\"toc-item\"><li><span><a href=\"#Training-data\" data-toc-modified-id=\"Training-data-4.1\"><span class=\"toc-item-num\">4.1&nbsp;&nbsp;</span>Training data</a></span></li><li><span><a href=\"#Out-of-sample-data-(to-predict)\" data-toc-modified-id=\"Out-of-sample-data-(to-predict)-4.2\"><span class=\"toc-item-num\">4.2&nbsp;&nbsp;</span>Out of sample data (to predict)</a></span></li></ul></li><li><span><a href=\"#Feature-exploration\" data-toc-modified-id=\"Feature-exploration-5\"><span class=\"toc-item-num\">5&nbsp;&nbsp;</span>Feature exploration</a></span><ul class=\"toc-item\"><li><span><a href=\"#Categorical-features\" data-toc-modified-id=\"Categorical-features-5.1\"><span class=\"toc-item-num\">5.1&nbsp;&nbsp;</span>Categorical features</a></span></li><li><span><a href=\"#Numerical-features\" data-toc-modified-id=\"Numerical-features-5.2\"><span class=\"toc-item-num\">5.2&nbsp;&nbsp;</span>Numerical features</a></span></li><li><span><a href=\"#Pair-plot\" data-toc-modified-id=\"Pair-plot-5.3\"><span class=\"toc-item-num\">5.3&nbsp;&nbsp;</span>Pair plot</a></span></li></ul></li><li><span><a href=\"#Feature-generation\" data-toc-modified-id=\"Feature-generation-6\"><span class=\"toc-item-num\">6&nbsp;&nbsp;</span>Feature generation</a></span></li><li><span><a href=\"#Feature-selection\" data-toc-modified-id=\"Feature-selection-7\"><span class=\"toc-item-num\">7&nbsp;&nbsp;</span>Feature selection</a></span><ul class=\"toc-item\"><li><span><a href=\"#Drop-features-(optional)\" data-toc-modified-id=\"Drop-features-(optional)-7.1\"><span class=\"toc-item-num\">7.1&nbsp;&nbsp;</span>Drop features (optional)</a></span></li></ul></li><li><span><a href=\"#ML-data-preparation\" data-toc-modified-id=\"ML-data-preparation-8\"><span class=\"toc-item-num\">8&nbsp;&nbsp;</span>ML data preparation</a></span><ul class=\"toc-item\"><li><span><a href=\"#Categorical-feature-encoding\" data-toc-modified-id=\"Categorical-feature-encoding-8.1\"><span class=\"toc-item-num\">8.1&nbsp;&nbsp;</span>Categorical feature encoding</a></span></li><li><span><a href=\"#Train-test-split\" data-toc-modified-id=\"Train-test-split-8.2\"><span class=\"toc-item-num\">8.2&nbsp;&nbsp;</span>Train test split</a></span></li></ul></li><li><span><a href=\"#Machine-learning-model\" data-toc-modified-id=\"Machine-learning-model-9\"><span class=\"toc-item-num\">9&nbsp;&nbsp;</span>Machine learning model</a></span><ul class=\"toc-item\"><li><span><a href=\"#Model-definition\" data-toc-modified-id=\"Model-definition-9.1\"><span class=\"toc-item-num\">9.1&nbsp;&nbsp;</span>Model definition</a></span></li><li><span><a href=\"#ML-model-training\" data-toc-modified-id=\"ML-model-training-9.2\"><span class=\"toc-item-num\">9.2&nbsp;&nbsp;</span>ML model training</a></span></li></ul></li><li><span><a href=\"#Model-evaluation\" data-toc-modified-id=\"Model-evaluation-10\"><span class=\"toc-item-num\">10&nbsp;&nbsp;</span>Model evaluation</a></span><ul class=\"toc-item\"><li><span><a href=\"#Train,-test-predictions\" data-toc-modified-id=\"Train,-test-predictions-10.1\"><span class=\"toc-item-num\">10.1&nbsp;&nbsp;</span>Train, test predictions</a></span></li><li><span><a href=\"#Regression-coefficients/Feature-importance\" data-toc-modified-id=\"Regression-coefficients/Feature-importance-10.2\"><span class=\"toc-item-num\">10.2&nbsp;&nbsp;</span>Regression coefficients/Feature importance</a></span></li><li><span><a href=\"#Metrics\" data-toc-modified-id=\"Metrics-10.3\"><span class=\"toc-item-num\">10.3&nbsp;&nbsp;</span>Metrics</a></span></li><li><span><a href=\"#Model-Performance-plots\" data-toc-modified-id=\"Model-Performance-plots-10.4\"><span class=\"toc-item-num\">10.4&nbsp;&nbsp;</span>Model Performance plots</a></span></li><li><span><a href=\"#Optionally-retrain-on-the-whole-data-set\" data-toc-modified-id=\"Optionally-retrain-on-the-whole-data-set-10.5\"><span class=\"toc-item-num\">10.5&nbsp;&nbsp;</span>Optionally retrain on the whole data set</a></span></li></ul></li><li><span><a href=\"#Apply-model-to-OOS-data\" data-toc-modified-id=\"Apply-model-to-OOS-data-11\"><span class=\"toc-item-num\">11&nbsp;&nbsp;</span>Apply model to OOS data</a></span><ul class=\"toc-item\"><li><span><a href=\"#Subset-to-relevant-columns\" data-toc-modified-id=\"Subset-to-relevant-columns-11.1\"><span class=\"toc-item-num\">11.1&nbsp;&nbsp;</span>Subset to relevant columns</a></span></li><li><span><a href=\"#Apply-categorical-encoding\" data-toc-modified-id=\"Apply-categorical-encoding-11.2\"><span class=\"toc-item-num\">11.2&nbsp;&nbsp;</span>Apply categorical encoding</a></span></li><li><span><a href=\"#Apply-model-and-produce-output\" data-toc-modified-id=\"Apply-model-and-produce-output-11.3\"><span class=\"toc-item-num\">11.3&nbsp;&nbsp;</span>Apply model and produce output</a></span></li></ul></li></ul></div>"
   ]
  },
  {
   "cell_type": "markdown",
   "execution_count": null,
   "metadata": {},
   "source": [
    "# Import libraries"
   ]
  },
  {
   "cell_type": "markdown",
   "execution_count": null,
   "metadata": {},
   "source": [
    "# Locally defined functions"
   ]
  },
  {
   "cell_type": "code",
   "execution_count": 1,
   "metadata": {
    "ExecuteTime": {
     "end_time": "2020-05-29T13:49:01.772171Z",
     "start_time": "2020-05-29T13:48:58.621554Z"
    }
   },
   "outputs": [],
   "source": [
    "# this may need to be installed separately with\n",
    "# !pip install category-encoders\n",
    "import category_encoders as ce\n",
    "from sklearn.pipeline import Pipeline\n",
    "from sklearn.preprocessing import MinMaxScaler\n",
    "\n",
    "# python general\n",
    "import pandas as pd\n",
    "import numpy as np\n",
    "from collections import OrderedDict\n",
    "\n",
    "#scikit learn\n",
    "\n",
    "import sklearn\n",
    "from sklearn.base import clone\n",
    "\n",
    "# model selection\n",
    "from sklearn.model_selection import train_test_split\n",
    "from sklearn.model_selection import GridSearchCV\n",
    "from sklearn.model_selection import KFold\n",
    "from sklearn.feature_selection import RFE\n",
    "\n",
    "# ML models\n",
    "from sklearn import tree\n",
    "from sklearn.linear_model import LinearRegression \n",
    "from sklearn.tree import DecisionTreeRegressor\n",
    "from sklearn.ensemble import RandomForestRegressor\n",
    "from sklearn.ensemble import GradientBoostingRegressor\n",
    "from sklearn.ensemble import AdaBoostRegressor\n",
    "from sklearn.linear_model import Lasso\n",
    "from sklearn.linear_model import ElasticNet\n",
    "from sklearn.neighbors import KNeighborsRegressor\n",
    "import xgboost as xgb\n",
    "from catboost import CatBoostRegressor\n",
    "\n",
    "# error metrics\n",
    "from sklearn.metrics import make_scorer\n",
    "from sklearn.metrics import mean_absolute_error, mean_squared_error, median_absolute_error\n",
    "from sklearn.model_selection import cross_val_score\n",
    "\n",
    "# plotting and display\n",
    "%matplotlib inline\n",
    "import matplotlib.pyplot as plt\n",
    "import seaborn as sns\n",
    "import matplotlib as mpl\n",
    "\n",
    "from IPython.display import display\n",
    "pd.options.display.max_columns = None\n",
    "\n",
    "# widgets and widgets based libraries\n",
    "import ipywidgets as widgets\n",
    "from ipywidgets import interact, interactive"
   ]
  },
  {
   "cell_type": "markdown",
   "execution_count": null,
   "metadata": {},
   "source": [
    "## Metrics"
   ]
  },
  {
   "cell_type": "code",
   "execution_count": 2,
   "metadata": {
    "ExecuteTime": {
     "end_time": "2020-05-29T13:49:01.780201Z",
     "start_time": "2020-05-29T13:49:01.774752Z"
    }
   },
   "outputs": [],
   "source": [
    "def rmse(y_true, y_pred):\n",
    "    res = np.sqrt(((y_true - y_pred) ** 2).mean())\n",
    "    return res\n",
    "\n",
    "def mape(y_true, y_pred):\n",
    "    y_val = np.maximum(np.array(y_true), 1e-8)\n",
    "    return (np.abs(y_true -y_pred)/y_val).mean()"
   ]
  },
  {
   "cell_type": "code",
   "execution_count": 3,
   "metadata": {
    "ExecuteTime": {
     "end_time": "2020-05-29T13:49:01.78862Z",
     "start_time": "2020-05-29T13:49:01.783989Z"
    }
   },
   "outputs": [],
   "source": [
    "metrics_dict_res = OrderedDict([\n",
    "            ('mean_absolute_error', mean_absolute_error),\n",
    "            ('median_absolute_error', median_absolute_error),\n",
    "            ('root_mean_squared_error', rmse),\n",
    "            ('mean abs perc error', mape)\n",
    "            ])"
   ]
  },
  {
   "cell_type": "code",
   "execution_count": 4,
   "metadata": {
    "ExecuteTime": {
     "end_time": "2020-05-29T13:49:01.799275Z",
     "start_time": "2020-05-29T13:49:01.791724Z"
    }
   },
   "outputs": [],
   "source": [
    "def regression_metrics_yin(y_train, y_train_pred, y_test, y_test_pred,\n",
    "                           metrics_dict, format_digits=None):\n",
    "    df_results = pd.DataFrame()\n",
    "    for metric, v in metrics_dict.items():\n",
    "        df_results.at[metric, 'train'] = v(y_train, y_train_pred)\n",
    "        df_results.at[metric, 'test'] = v(y_test, y_test_pred)\n",
    "\n",
    "    if format_digits is not None:\n",
    "        df_results = df_results.applymap(('{:,.%df}' % format_digits).format)\n",
    "\n",
    "    return df_results"
   ]
  },
  {
   "cell_type": "markdown",
   "execution_count": null,
   "metadata": {},
   "source": [
    "## Display functions"
   ]
  },
  {
   "cell_type": "code",
   "execution_count": 5,
   "metadata": {
    "ExecuteTime": {
     "end_time": "2020-05-29T13:49:01.81894Z",
     "start_time": "2020-05-29T13:49:01.802321Z"
    }
   },
   "outputs": [],
   "source": [
    "def describe_col(df, col):\n",
    "    display(df[col].describe())\n",
    "\n",
    "def val_count(df, col):\n",
    "    display(df[col].value_counts())\n",
    "\n",
    "def show_values(df, col):\n",
    "    print(\"Number of unique values:\", len(df[col].unique()))\n",
    "    return display(df[col].value_counts(dropna=False))"
   ]
  },
  {
   "cell_type": "code",
   "execution_count": 6,
   "metadata": {
    "ExecuteTime": {
     "end_time": "2020-05-29T13:49:01.831166Z",
     "start_time": "2020-05-29T13:49:01.822658Z"
    }
   },
   "outputs": [],
   "source": [
    "def plot_distribution(df, col, bins=100, figsize=None, xlim=None, font=None, histtype='step'):\n",
    "    if font is not None:\n",
    "        mpl.rc('font', **font)\n",
    "\n",
    "    if figsize is not None:\n",
    "        plt.figure(figsize=figsize)\n",
    "    else:\n",
    "        plt.figure(figsize=(10, 6))\n",
    "    dev = df[col]    \n",
    "    dev.plot(kind='hist', bins=bins, density=True, histtype=histtype, color='b', lw=2,alpha=0.99)\n",
    "    print('mean:', dev.mean())\n",
    "    print('median:', dev.median())\n",
    "    if xlim is not None:\n",
    "        plt.xlim(xlim)\n",
    "    return plt.gca()"
   ]
  },
  {
   "cell_type": "code",
   "execution_count": 7,
   "metadata": {
    "ExecuteTime": {
     "end_time": "2020-05-29T13:49:02.004607Z",
     "start_time": "2020-05-29T13:49:01.987764Z"
    }
   },
   "outputs": [],
   "source": [
    "def plot_feature_importances(model, feature_names=None, n_features=20):\n",
    "    if feature_names is None:\n",
    "        feature_names = range(n_features)\n",
    "    \n",
    "    importances = model.feature_importances_\n",
    "    importances_rescaled = 100 * (importances / importances.max())\n",
    "    xlabel = \"Relative importance\"\n",
    "\n",
    "    sorted_idx = np.argsort(-importances_rescaled)\n",
    "\n",
    "    names_sorted = [feature_names[k] for k in sorted_idx]\n",
    "    importances_sorted = [importances_rescaled[k] for k in sorted_idx]\n",
    "\n",
    "    pos = np.arange(n_features) + 0.5\n",
    "    plt.barh(pos, importances_sorted[:n_features], align='center')\n",
    "\n",
    "    plt.yticks(pos, names_sorted[:n_features])\n",
    "    plt.xlabel(xlabel)\n",
    "\n",
    "    plt.title(\"Feature importances\")\n",
    "\n",
    "    return plt.gca()"
   ]
  },
  {
   "cell_type": "code",
   "execution_count": 8,
   "metadata": {
    "ExecuteTime": {
     "end_time": "2020-05-29T13:49:02.205723Z",
     "start_time": "2020-05-29T13:49:02.192061Z"
    }
   },
   "outputs": [],
   "source": [
    "def plot_act_vs_pred(y_act, y_pred, scale=1, act_label='actual', pred_label='predicted', figsize=None, xlim=None,\n",
    "                     ylim=None, font=None):\n",
    "    \n",
    "    if font is not None:\n",
    "        mpl.rc('font', **font)\n",
    "\n",
    "    if figsize is not None:\n",
    "        plt.figure(figsize=figsize)\n",
    "    else:\n",
    "        plt.figure(figsize=(10, 6))\n",
    "    plt.scatter(y_act/scale, y_pred/scale)\n",
    "    x = np.linspace(0, y_act.max()/scale, 10)\n",
    "    plt.plot(x, x)\n",
    "    plt.xlabel(act_label)\n",
    "    plt.ylabel(pred_label)\n",
    "    if xlim is not None:\n",
    "        plt.xlim(xlim)\n",
    "    else:\n",
    "        plt.xlim([0, 1e2])\n",
    "    if ylim is not None:\n",
    "        plt.ylim(ylim)\n",
    "    else:\n",
    "        plt.ylim([0, 1e2])\n",
    "    return plt.gca()"
   ]
  },
  {
   "cell_type": "code",
   "execution_count": 9,
   "metadata": {
    "ExecuteTime": {
     "end_time": "2020-05-29T13:49:02.590077Z",
     "start_time": "2020-05-29T13:49:02.576188Z"
    }
   },
   "outputs": [],
   "source": [
    "def compute_perc_deviation(y_act, y_pred, absolute=False):\n",
    "    dev = (y_pred - y_act)/y_act * 100\n",
    "    if absolute:\n",
    "        dev = np.abs(dev)\n",
    "        dev.name = 'abs % error'\n",
    "    else:\n",
    "        dev.name = '% error'\n",
    "    return dev\n",
    "\n",
    "def plot_dev_distribution(y_act, y_pred, absolute=False, bins=100, figsize=None, xlim=None, font=None):\n",
    "    if font is not None:\n",
    "        mpl.rc('font', **font)\n",
    "\n",
    "    if figsize is not None:\n",
    "        plt.figure(figsize=figsize)\n",
    "    else:\n",
    "        plt.figure(figsize=(10, 6))\n",
    "    dev = compute_perc_deviation(y_act, y_pred, absolute=absolute)\n",
    "    dev.plot(kind='hist', bins=bins, density=True)\n",
    "    print('mean % dev:', dev.mean())\n",
    "    print('median % dev:', dev.median())\n",
    "    # plt.vlines(dev.mean(), 0, 0.05)\n",
    "    plt.title('Distribution of errors')\n",
    "    plt.xlabel('% deviation')\n",
    "    if xlim is not None:\n",
    "        plt.xlim(xlim)\n",
    "    else:\n",
    "        plt.xlim([-1e2, 1e2])\n",
    "    return plt.gca()"
   ]
  },
  {
   "cell_type": "markdown",
   "execution_count": null,
   "metadata": {},
   "source": [
    "## Define features"
   ]
  },
  {
   "cell_type": "code",
   "execution_count": 10,
   "metadata": {
    "ExecuteTime": {
     "end_time": "2020-05-29T14:38:05.44927Z",
     "start_time": "2020-05-29T14:38:05.442157Z"
    }
   },
   "outputs": [],
   "source": [
    "categorical_features = [\n",
    "    'Body_Type',\n",
    "    'Driven_Wheels',\n",
    "    'Global_Sales_Sub-Segment',\n",
    "    'Brand',\n",
    "    'Nameplate',\n",
    "    'Transmission',\n",
    "    'Turbo',\n",
    "    'Fuel_Type',\n",
    "    'PropSysDesign',\n",
    "    'Plugin',\n",
    "    'Registration_Type',\n",
    "    'country_name'\n",
    "]\n",
    "\n",
    "numeric_features = [\n",
    "    'Generation_Year',\n",
    "    'Length',\n",
    "    'Height',\n",
    "    'Width',\n",
    "    'Engine_KW',\n",
    "    'No_of_Gears',\n",
    "    'Curb_Weight',\n",
    "    'CO2',\n",
    "    'Fuel_cons_combined',\n",
    "    'year'\n",
    "]\n",
    "\n",
    "all_numeric_features = list(numeric_features)\n",
    "all_categorical_features = list(categorical_features)\n",
    "\n",
    "target = [\n",
    "    'Price_USD'\n",
    "]\n",
    "\n",
    "target_name = 'Price_USD'"
   ]
  },
  {
   "cell_type": "markdown",
   "execution_count": null,
   "metadata": {},
   "source": [
    "# Global options"
   ]
  },
  {
   "cell_type": "code",
   "execution_count": 11,
   "metadata": {
    "ExecuteTime": {
     "end_time": "2020-05-29T14:38:06.350153Z",
     "start_time": "2020-05-29T14:38:06.344931Z"
    }
   },
   "outputs": [],
   "source": [
    "#ml_model_type = 'Linear Regression'\n",
    "#ml_model_type = 'Decision Tree'\n",
    "#ml_model_type = 'Random Forest'\n",
    "#ml_model_type = 'Gradient Boosting Regressor'\n",
    "#ml_model_type = 'AdaBoost'\n",
    "#ml_model_type = 'XGBoost'\n",
    "ml_model_type = 'CatBoost'\n",
    "\n",
    "regression_metric = 'mean abs perc error'\n",
    "\n",
    "do_grid_search_cv = False\n",
    "scoring_greater_is_better = False  # THIS NEEDS TO BE SET CORRECTLY FOR CV GRID SEARCH\n",
    "\n",
    "do_retrain_total = True\n",
    "write_predictions_file = True\n",
    "\n",
    "# relative size of test set\n",
    "test_size = 0.2\n",
    "random_state = 33"
   ]
  },
  {
   "cell_type": "markdown",
   "execution_count": null,
   "metadata": {},
   "source": [
    "# Load  data\n"
   ]
  },
  {
   "cell_type": "markdown",
   "execution_count": null,
   "metadata": {},
   "source": [
    "## Training data"
   ]
  },
  {
   "cell_type": "code",
   "execution_count": 12,
   "metadata": {
    "ExecuteTime": {
     "end_time": "2020-05-29T14:38:07.224649Z",
     "start_time": "2020-05-29T14:38:06.774363Z"
    }
   },
   "outputs": [],
   "source": [
    "df = pd.read_csv('/kaggle/input/ihsmarkit-hackathon-june2020/train_data.csv',index_col='vehicle_id')\n",
    "df['date'] = pd.to_datetime(df['date'])\n",
    "#g = df['Brand'].value_counts()\n",
    "#df['Brand'] = np.where(df['Brand'].isin(g.index[g >= 200]), df['Brand'], 'Other')"
   ]
  },
  {
   "cell_type": "code",
   "execution_count": 13,
   "metadata": {
    "ExecuteTime": {
     "end_time": "2020-05-29T14:38:07.287427Z",
     "start_time": "2020-05-29T14:38:07.22789Z"
    }
   },
   "outputs": [
    {
     "data": {
      "text/html": [
       "<div>\n",
       "<style scoped>\n",
       "    .dataframe tbody tr th:only-of-type {\n",
       "        vertical-align: middle;\n",
       "    }\n",
       "\n",
       "    .dataframe tbody tr th {\n",
       "        vertical-align: top;\n",
       "    }\n",
       "\n",
       "    .dataframe thead th {\n",
       "        text-align: right;\n",
       "    }\n",
       "</style>\n",
       "<table border=\"1\" class=\"dataframe\">\n",
       "  <thead>\n",
       "    <tr style=\"text-align: right;\">\n",
       "      <th></th>\n",
       "      <th>Body_Type</th>\n",
       "      <th>Global_Sales_Sub-Segment</th>\n",
       "      <th>Brand</th>\n",
       "      <th>Nameplate</th>\n",
       "      <th>Driven_Wheels</th>\n",
       "      <th>Transmission</th>\n",
       "      <th>Turbo</th>\n",
       "      <th>Fuel_Type</th>\n",
       "      <th>PropSysDesign</th>\n",
       "      <th>Plugin</th>\n",
       "      <th>Registration_Type</th>\n",
       "      <th>Generation_Year</th>\n",
       "      <th>Length</th>\n",
       "      <th>Height</th>\n",
       "      <th>Width</th>\n",
       "      <th>Engine_KW</th>\n",
       "      <th>No_of_Gears</th>\n",
       "      <th>Curb_Weight</th>\n",
       "      <th>CO2</th>\n",
       "      <th>Fuel_cons_combined</th>\n",
       "      <th>date</th>\n",
       "      <th>country_name</th>\n",
       "      <th>year</th>\n",
       "      <th>Price_USD</th>\n",
       "    </tr>\n",
       "    <tr>\n",
       "      <th>vehicle_id</th>\n",
       "      <th></th>\n",
       "      <th></th>\n",
       "      <th></th>\n",
       "      <th></th>\n",
       "      <th></th>\n",
       "      <th></th>\n",
       "      <th></th>\n",
       "      <th></th>\n",
       "      <th></th>\n",
       "      <th></th>\n",
       "      <th></th>\n",
       "      <th></th>\n",
       "      <th></th>\n",
       "      <th></th>\n",
       "      <th></th>\n",
       "      <th></th>\n",
       "      <th></th>\n",
       "      <th></th>\n",
       "      <th></th>\n",
       "      <th></th>\n",
       "      <th></th>\n",
       "      <th></th>\n",
       "      <th></th>\n",
       "      <th></th>\n",
       "    </tr>\n",
       "  </thead>\n",
       "  <tbody>\n",
       "    <tr>\n",
       "      <th>0</th>\n",
       "      <td>hatchback</td>\n",
       "      <td>car</td>\n",
       "      <td>peugeot</td>\n",
       "      <td>308</td>\n",
       "      <td>front</td>\n",
       "      <td>manual</td>\n",
       "      <td>non turbo</td>\n",
       "      <td>gas</td>\n",
       "      <td>ice</td>\n",
       "      <td>no</td>\n",
       "      <td>Passenger Cars</td>\n",
       "      <td>2007.0</td>\n",
       "      <td>4276.0</td>\n",
       "      <td>1498.0</td>\n",
       "      <td>1815.0</td>\n",
       "      <td>70.0</td>\n",
       "      <td>5.0</td>\n",
       "      <td>1346.0</td>\n",
       "      <td>155.000000</td>\n",
       "      <td>6.5</td>\n",
       "      <td>2010-01-01</td>\n",
       "      <td>Germany</td>\n",
       "      <td>2010</td>\n",
       "      <td>22919.152941</td>\n",
       "    </tr>\n",
       "    <tr>\n",
       "      <th>1</th>\n",
       "      <td>sedan</td>\n",
       "      <td>car</td>\n",
       "      <td>bmw</td>\n",
       "      <td>5-series</td>\n",
       "      <td>rear</td>\n",
       "      <td>automatic</td>\n",
       "      <td>non turbo</td>\n",
       "      <td>gas</td>\n",
       "      <td>ice</td>\n",
       "      <td>no</td>\n",
       "      <td>Passenger Cars</td>\n",
       "      <td>2009.0</td>\n",
       "      <td>4899.0</td>\n",
       "      <td>1464.0</td>\n",
       "      <td>1860.0</td>\n",
       "      <td>190.0</td>\n",
       "      <td>8.0</td>\n",
       "      <td>1730.0</td>\n",
       "      <td>178.000000</td>\n",
       "      <td>7.6</td>\n",
       "      <td>2010-01-01</td>\n",
       "      <td>Germany</td>\n",
       "      <td>2010</td>\n",
       "      <td>68041.760000</td>\n",
       "    </tr>\n",
       "    <tr>\n",
       "      <th>2</th>\n",
       "      <td>sedan</td>\n",
       "      <td>car</td>\n",
       "      <td>chrysler</td>\n",
       "      <td>300</td>\n",
       "      <td>rear</td>\n",
       "      <td>automatic</td>\n",
       "      <td>non turbo</td>\n",
       "      <td>gas</td>\n",
       "      <td>ice</td>\n",
       "      <td>no</td>\n",
       "      <td>Passenger Cars</td>\n",
       "      <td>2004.0</td>\n",
       "      <td>4999.0</td>\n",
       "      <td>1483.0</td>\n",
       "      <td>1881.0</td>\n",
       "      <td>186.0</td>\n",
       "      <td>4.0</td>\n",
       "      <td>1729.0</td>\n",
       "      <td>479.000000</td>\n",
       "      <td>20.0</td>\n",
       "      <td>2010-01-01</td>\n",
       "      <td>USA</td>\n",
       "      <td>2010</td>\n",
       "      <td>33285.000000</td>\n",
       "    </tr>\n",
       "    <tr>\n",
       "      <th>3</th>\n",
       "      <td>sedan</td>\n",
       "      <td>car</td>\n",
       "      <td>jaguar</td>\n",
       "      <td>xj</td>\n",
       "      <td>rear</td>\n",
       "      <td>automatic</td>\n",
       "      <td>turbo</td>\n",
       "      <td>gas</td>\n",
       "      <td>ice</td>\n",
       "      <td>no</td>\n",
       "      <td>Passenger Cars</td>\n",
       "      <td>2003.0</td>\n",
       "      <td>5090.0</td>\n",
       "      <td>1448.0</td>\n",
       "      <td>1898.0</td>\n",
       "      <td>291.0</td>\n",
       "      <td>6.0</td>\n",
       "      <td>1728.0</td>\n",
       "      <td>289.000000</td>\n",
       "      <td>12.1</td>\n",
       "      <td>2010-01-01</td>\n",
       "      <td>Germany</td>\n",
       "      <td>2010</td>\n",
       "      <td>138367.040000</td>\n",
       "    </tr>\n",
       "    <tr>\n",
       "      <th>4</th>\n",
       "      <td>sedan</td>\n",
       "      <td>car</td>\n",
       "      <td>honda</td>\n",
       "      <td>civic</td>\n",
       "      <td>front</td>\n",
       "      <td>automatic</td>\n",
       "      <td>non turbo</td>\n",
       "      <td>gas</td>\n",
       "      <td>hybrid-full</td>\n",
       "      <td>no</td>\n",
       "      <td>Passenger Cars</td>\n",
       "      <td>2005.0</td>\n",
       "      <td>4488.0</td>\n",
       "      <td>1430.0</td>\n",
       "      <td>1753.0</td>\n",
       "      <td>70.0</td>\n",
       "      <td>5.0</td>\n",
       "      <td>1305.0</td>\n",
       "      <td>103.533333</td>\n",
       "      <td>4.7</td>\n",
       "      <td>2010-01-01</td>\n",
       "      <td>USA</td>\n",
       "      <td>2010</td>\n",
       "      <td>24535.714286</td>\n",
       "    </tr>\n",
       "  </tbody>\n",
       "</table>\n",
       "</div>"
      ],
      "text/plain": [
       "            Body_Type Global_Sales_Sub-Segment     Brand Nameplate  \\\n",
       "vehicle_id                                                           \n",
       "0           hatchback                      car   peugeot       308   \n",
       "1               sedan                      car       bmw  5-series   \n",
       "2               sedan                      car  chrysler       300   \n",
       "3               sedan                      car    jaguar        xj   \n",
       "4               sedan                      car     honda     civic   \n",
       "\n",
       "           Driven_Wheels Transmission      Turbo Fuel_Type PropSysDesign  \\\n",
       "vehicle_id                                                                 \n",
       "0                  front       manual  non turbo       gas           ice   \n",
       "1                   rear    automatic  non turbo       gas           ice   \n",
       "2                   rear    automatic  non turbo       gas           ice   \n",
       "3                   rear    automatic      turbo       gas           ice   \n",
       "4                  front    automatic  non turbo       gas   hybrid-full   \n",
       "\n",
       "           Plugin Registration_Type  Generation_Year  Length  Height   Width  \\\n",
       "vehicle_id                                                                     \n",
       "0              no    Passenger Cars           2007.0  4276.0  1498.0  1815.0   \n",
       "1              no    Passenger Cars           2009.0  4899.0  1464.0  1860.0   \n",
       "2              no    Passenger Cars           2004.0  4999.0  1483.0  1881.0   \n",
       "3              no    Passenger Cars           2003.0  5090.0  1448.0  1898.0   \n",
       "4              no    Passenger Cars           2005.0  4488.0  1430.0  1753.0   \n",
       "\n",
       "            Engine_KW  No_of_Gears  Curb_Weight         CO2  \\\n",
       "vehicle_id                                                    \n",
       "0                70.0          5.0       1346.0  155.000000   \n",
       "1               190.0          8.0       1730.0  178.000000   \n",
       "2               186.0          4.0       1729.0  479.000000   \n",
       "3               291.0          6.0       1728.0  289.000000   \n",
       "4                70.0          5.0       1305.0  103.533333   \n",
       "\n",
       "            Fuel_cons_combined       date country_name  year      Price_USD  \n",
       "vehicle_id                                                                   \n",
       "0                          6.5 2010-01-01      Germany  2010   22919.152941  \n",
       "1                          7.6 2010-01-01      Germany  2010   68041.760000  \n",
       "2                         20.0 2010-01-01          USA  2010   33285.000000  \n",
       "3                         12.1 2010-01-01      Germany  2010  138367.040000  \n",
       "4                          4.7 2010-01-01          USA  2010   24535.714286  "
      ]
     },
     "execution_count": 13,
     "metadata": {},
     "output_type": "execute_result"
    }
   ],
   "source": [
    "# basic commands on a dataframe\n",
    "# df.info()\n",
    "df.head(5)\n",
    "# df.shape\n",
    "# df.head()\n",
    "# df.tail()"
   ]
  },
  {
   "cell_type": "code",
   "execution_count": 14,
   "metadata": {
    "ExecuteTime": {
     "end_time": "2020-05-29T14:38:07.328268Z",
     "start_time": "2020-05-29T14:38:07.292314Z"
    }
   },
   "outputs": [
    {
     "data": {
      "text/plain": [
       "Germany    26177\n",
       "USA        13578\n",
       "China       5519\n",
       "Name: country_name, dtype: int64"
      ]
     },
     "execution_count": 14,
     "metadata": {},
     "output_type": "execute_result"
    }
   ],
   "source": [
    "df['country_name'].value_counts()"
   ]
  },
  {
   "cell_type": "code",
   "execution_count": 15,
   "metadata": {
    "ExecuteTime": {
     "end_time": "2020-05-29T14:38:07.464456Z",
     "start_time": "2020-05-29T14:38:07.435001Z"
    }
   },
   "outputs": [
    {
     "data": {
      "text/plain": [
       "year  country_name\n",
       "2010  China           1615\n",
       "      Germany         7549\n",
       "      USA             3401\n",
       "2011  China            481\n",
       "      Germany         2013\n",
       "      USA             1575\n",
       "2012  China            559\n",
       "      Germany         1541\n",
       "      USA             1355\n",
       "2013  China            866\n",
       "      Germany         1685\n",
       "      USA             2264\n",
       "2014  China            674\n",
       "      Germany         5574\n",
       "      USA             1373\n",
       "2015  China            653\n",
       "      Germany         3796\n",
       "      USA             1751\n",
       "2016  China            671\n",
       "      Germany         4019\n",
       "      USA             1859\n",
       "Name: date, dtype: int64"
      ]
     },
     "execution_count": 15,
     "metadata": {},
     "output_type": "execute_result"
    }
   ],
   "source": [
    "df.groupby(['year', 'country_name'])['date'].count()"
   ]
  },
  {
   "cell_type": "markdown",
   "execution_count": null,
   "metadata": {},
   "source": [
    "## Out of sample data (to predict)"
   ]
  },
  {
   "cell_type": "code",
   "execution_count": 16,
   "metadata": {
    "ExecuteTime": {
     "end_time": "2020-05-29T14:38:07.956488Z",
     "start_time": "2020-05-29T14:38:07.815838Z"
    }
   },
   "outputs": [],
   "source": [
    "df_oos = pd.read_csv('/kaggle/input/ihsmarkit-hackathon-june2020/oos_data.csv', index_col='vehicle_id')\n",
    "df_oos['date'] = pd.to_datetime(df_oos['date'])\n",
    "df_oos['year'] = df_oos['date'].map(lambda d: d.year)\n",
    "#g_oos = df_oos['Brand'].value_counts()\n",
    "#df_oos['Brand'] = np.where(df_oos['Brand'].isin(g.index[g >= 200]), df_oos['Brand'], 'Other')"
   ]
  },
  {
   "cell_type": "code",
   "execution_count": 17,
   "metadata": {
    "ExecuteTime": {
     "end_time": "2020-05-29T14:38:08.06265Z",
     "start_time": "2020-05-29T14:38:08.00968Z"
    }
   },
   "outputs": [
    {
     "data": {
      "text/html": [
       "<div>\n",
       "<style scoped>\n",
       "    .dataframe tbody tr th:only-of-type {\n",
       "        vertical-align: middle;\n",
       "    }\n",
       "\n",
       "    .dataframe tbody tr th {\n",
       "        vertical-align: top;\n",
       "    }\n",
       "\n",
       "    .dataframe thead th {\n",
       "        text-align: right;\n",
       "    }\n",
       "</style>\n",
       "<table border=\"1\" class=\"dataframe\">\n",
       "  <thead>\n",
       "    <tr style=\"text-align: right;\">\n",
       "      <th></th>\n",
       "      <th>Body_Type</th>\n",
       "      <th>Global_Sales_Sub-Segment</th>\n",
       "      <th>Brand</th>\n",
       "      <th>Nameplate</th>\n",
       "      <th>Driven_Wheels</th>\n",
       "      <th>Transmission</th>\n",
       "      <th>Turbo</th>\n",
       "      <th>Fuel_Type</th>\n",
       "      <th>PropSysDesign</th>\n",
       "      <th>Plugin</th>\n",
       "      <th>Registration_Type</th>\n",
       "      <th>Generation_Year</th>\n",
       "      <th>Length</th>\n",
       "      <th>Height</th>\n",
       "      <th>Width</th>\n",
       "      <th>Engine_KW</th>\n",
       "      <th>No_of_Gears</th>\n",
       "      <th>Curb_Weight</th>\n",
       "      <th>CO2</th>\n",
       "      <th>Fuel_cons_combined</th>\n",
       "      <th>date</th>\n",
       "      <th>country_name</th>\n",
       "      <th>year</th>\n",
       "    </tr>\n",
       "    <tr>\n",
       "      <th>vehicle_id</th>\n",
       "      <th></th>\n",
       "      <th></th>\n",
       "      <th></th>\n",
       "      <th></th>\n",
       "      <th></th>\n",
       "      <th></th>\n",
       "      <th></th>\n",
       "      <th></th>\n",
       "      <th></th>\n",
       "      <th></th>\n",
       "      <th></th>\n",
       "      <th></th>\n",
       "      <th></th>\n",
       "      <th></th>\n",
       "      <th></th>\n",
       "      <th></th>\n",
       "      <th></th>\n",
       "      <th></th>\n",
       "      <th></th>\n",
       "      <th></th>\n",
       "      <th></th>\n",
       "      <th></th>\n",
       "      <th></th>\n",
       "    </tr>\n",
       "  </thead>\n",
       "  <tbody>\n",
       "    <tr>\n",
       "      <th>45274</th>\n",
       "      <td>coupe</td>\n",
       "      <td>sport</td>\n",
       "      <td>chevrolet</td>\n",
       "      <td>camaro</td>\n",
       "      <td>rear</td>\n",
       "      <td>manual</td>\n",
       "      <td>non turbo</td>\n",
       "      <td>gas</td>\n",
       "      <td>ice</td>\n",
       "      <td>no</td>\n",
       "      <td>Passenger Cars</td>\n",
       "      <td>2015.0</td>\n",
       "      <td>4783.0</td>\n",
       "      <td>1349.0</td>\n",
       "      <td>1897.0</td>\n",
       "      <td>250.0</td>\n",
       "      <td>6.0</td>\n",
       "      <td>1521.000000</td>\n",
       "      <td>268.000000</td>\n",
       "      <td>11.200000</td>\n",
       "      <td>2017-01-01</td>\n",
       "      <td>USA</td>\n",
       "      <td>2017</td>\n",
       "    </tr>\n",
       "    <tr>\n",
       "      <th>45275</th>\n",
       "      <td>suv</td>\n",
       "      <td>suv</td>\n",
       "      <td>foday</td>\n",
       "      <td>lan fu</td>\n",
       "      <td>rear</td>\n",
       "      <td>manual</td>\n",
       "      <td>turbo</td>\n",
       "      <td>gas</td>\n",
       "      <td>ice</td>\n",
       "      <td>no</td>\n",
       "      <td>Passenger Cars</td>\n",
       "      <td>2014.0</td>\n",
       "      <td>4771.0</td>\n",
       "      <td>1828.0</td>\n",
       "      <td>1870.0</td>\n",
       "      <td>160.0</td>\n",
       "      <td>5.0</td>\n",
       "      <td>1790.347059</td>\n",
       "      <td>189.352914</td>\n",
       "      <td>7.931139</td>\n",
       "      <td>2017-01-01</td>\n",
       "      <td>China</td>\n",
       "      <td>2017</td>\n",
       "    </tr>\n",
       "    <tr>\n",
       "      <th>45276</th>\n",
       "      <td>hatchback</td>\n",
       "      <td>car</td>\n",
       "      <td>tesla</td>\n",
       "      <td>model s</td>\n",
       "      <td>awd</td>\n",
       "      <td>automatic</td>\n",
       "      <td>non turbo</td>\n",
       "      <td>electricity</td>\n",
       "      <td>electric</td>\n",
       "      <td>yes</td>\n",
       "      <td>Passenger Cars</td>\n",
       "      <td>2012.0</td>\n",
       "      <td>4970.0</td>\n",
       "      <td>1435.0</td>\n",
       "      <td>1964.0</td>\n",
       "      <td>449.0</td>\n",
       "      <td>0.0</td>\n",
       "      <td>2175.000000</td>\n",
       "      <td>0.000000</td>\n",
       "      <td>0.000000</td>\n",
       "      <td>2017-01-01</td>\n",
       "      <td>Germany</td>\n",
       "      <td>2017</td>\n",
       "    </tr>\n",
       "    <tr>\n",
       "      <th>45277</th>\n",
       "      <td>suv</td>\n",
       "      <td>suv</td>\n",
       "      <td>kia</td>\n",
       "      <td>sorento</td>\n",
       "      <td>front</td>\n",
       "      <td>automatic</td>\n",
       "      <td>turbo</td>\n",
       "      <td>diesel</td>\n",
       "      <td>ice</td>\n",
       "      <td>no</td>\n",
       "      <td>Passenger Cars</td>\n",
       "      <td>2014.0</td>\n",
       "      <td>4780.0</td>\n",
       "      <td>1685.0</td>\n",
       "      <td>1890.0</td>\n",
       "      <td>147.0</td>\n",
       "      <td>6.0</td>\n",
       "      <td>1878.029422</td>\n",
       "      <td>164.815251</td>\n",
       "      <td>6.316334</td>\n",
       "      <td>2017-01-01</td>\n",
       "      <td>China</td>\n",
       "      <td>2017</td>\n",
       "    </tr>\n",
       "    <tr>\n",
       "      <th>45278</th>\n",
       "      <td>suv</td>\n",
       "      <td>suv</td>\n",
       "      <td>volkswagen</td>\n",
       "      <td>teramont</td>\n",
       "      <td>awd</td>\n",
       "      <td>automatic</td>\n",
       "      <td>turbo</td>\n",
       "      <td>gas</td>\n",
       "      <td>ice</td>\n",
       "      <td>no</td>\n",
       "      <td>Passenger Cars</td>\n",
       "      <td>2016.0</td>\n",
       "      <td>5039.0</td>\n",
       "      <td>1773.0</td>\n",
       "      <td>1989.0</td>\n",
       "      <td>162.0</td>\n",
       "      <td>7.0</td>\n",
       "      <td>2292.418810</td>\n",
       "      <td>301.233333</td>\n",
       "      <td>16.009000</td>\n",
       "      <td>2017-01-01</td>\n",
       "      <td>China</td>\n",
       "      <td>2017</td>\n",
       "    </tr>\n",
       "  </tbody>\n",
       "</table>\n",
       "</div>"
      ],
      "text/plain": [
       "            Body_Type Global_Sales_Sub-Segment       Brand Nameplate  \\\n",
       "vehicle_id                                                             \n",
       "45274           coupe                    sport   chevrolet    camaro   \n",
       "45275             suv                      suv       foday    lan fu   \n",
       "45276       hatchback                      car       tesla   model s   \n",
       "45277             suv                      suv         kia   sorento   \n",
       "45278             suv                      suv  volkswagen  teramont   \n",
       "\n",
       "           Driven_Wheels Transmission      Turbo    Fuel_Type PropSysDesign  \\\n",
       "vehicle_id                                                                    \n",
       "45274               rear       manual  non turbo          gas           ice   \n",
       "45275               rear       manual      turbo          gas           ice   \n",
       "45276                awd    automatic  non turbo  electricity      electric   \n",
       "45277              front    automatic      turbo       diesel           ice   \n",
       "45278                awd    automatic      turbo          gas           ice   \n",
       "\n",
       "           Plugin Registration_Type  Generation_Year  Length  Height   Width  \\\n",
       "vehicle_id                                                                     \n",
       "45274          no    Passenger Cars           2015.0  4783.0  1349.0  1897.0   \n",
       "45275          no    Passenger Cars           2014.0  4771.0  1828.0  1870.0   \n",
       "45276         yes    Passenger Cars           2012.0  4970.0  1435.0  1964.0   \n",
       "45277          no    Passenger Cars           2014.0  4780.0  1685.0  1890.0   \n",
       "45278          no    Passenger Cars           2016.0  5039.0  1773.0  1989.0   \n",
       "\n",
       "            Engine_KW  No_of_Gears  Curb_Weight         CO2  \\\n",
       "vehicle_id                                                    \n",
       "45274           250.0          6.0  1521.000000  268.000000   \n",
       "45275           160.0          5.0  1790.347059  189.352914   \n",
       "45276           449.0          0.0  2175.000000    0.000000   \n",
       "45277           147.0          6.0  1878.029422  164.815251   \n",
       "45278           162.0          7.0  2292.418810  301.233333   \n",
       "\n",
       "            Fuel_cons_combined       date country_name  year  \n",
       "vehicle_id                                                    \n",
       "45274                11.200000 2017-01-01          USA  2017  \n",
       "45275                 7.931139 2017-01-01        China  2017  \n",
       "45276                 0.000000 2017-01-01      Germany  2017  \n",
       "45277                 6.316334 2017-01-01        China  2017  \n",
       "45278                16.009000 2017-01-01        China  2017  "
      ]
     },
     "execution_count": 17,
     "metadata": {},
     "output_type": "execute_result"
    }
   ],
   "source": [
    "# df_oos.shape\n",
    "df_oos.head()"
   ]
  },
  {
   "cell_type": "code",
   "execution_count": 18,
   "metadata": {
    "ExecuteTime": {
     "end_time": "2020-05-29T14:38:08.274264Z",
     "start_time": "2020-05-29T14:38:08.256603Z"
    }
   },
   "outputs": [
    {
     "data": {
      "text/plain": [
       "year  country_name\n",
       "2017  China            757\n",
       "      Germany         2372\n",
       "      USA              666\n",
       "2018  China            348\n",
       "      Germany         1350\n",
       "      USA              618\n",
       "Name: date, dtype: int64"
      ]
     },
     "execution_count": 18,
     "metadata": {},
     "output_type": "execute_result"
    }
   ],
   "source": [
    "df_oos.groupby(['year', 'country_name'])['date'].count()"
   ]
  },
  {
   "cell_type": "markdown",
   "execution_count": null,
   "metadata": {},
   "source": [
    "# Feature exploration"
   ]
  },
  {
   "cell_type": "markdown",
   "execution_count": null,
   "metadata": {},
   "source": [
    "## Categorical features"
   ]
  },
  {
   "cell_type": "code",
   "execution_count": 19,
   "metadata": {
    "ExecuteTime": {
     "end_time": "2020-05-29T14:38:09.392394Z",
     "start_time": "2020-05-29T14:38:09.318365Z"
    }
   },
   "outputs": [
    {
     "name": "stdout",
     "output_type": "stream",
     "text": [
      "Body_Type 12\n",
      "Driven_Wheels 4\n",
      "Global_Sales_Sub-Segment 6\n",
      "Brand 162\n",
      "Nameplate 1312\n",
      "Transmission 3\n",
      "Turbo 3\n",
      "Fuel_Type 8\n",
      "PropSysDesign 6\n",
      "Plugin 3\n",
      "Registration_Type 2\n",
      "country_name 3\n"
     ]
    }
   ],
   "source": [
    "# unique values, categorical variables\n",
    "for col in all_categorical_features:\n",
    "    print(col, len(df[col].unique()))"
   ]
  },
  {
   "cell_type": "code",
   "execution_count": 20,
   "metadata": {
    "ExecuteTime": {
     "end_time": "2020-05-29T14:38:09.877754Z",
     "start_time": "2020-05-29T14:38:09.801663Z"
    }
   },
   "outputs": [
    {
     "name": "stdout",
     "output_type": "stream",
     "text": [
      "Number of unique values: 12\n"
     ]
    },
    {
     "data": {
      "text/plain": [
       "van            9613\n",
       "suv            7553\n",
       "sedan          7170\n",
       "hatchback      6410\n",
       "pickup         4265\n",
       "wagon          3398\n",
       "mpv            2422\n",
       "coupe          2224\n",
       "convertible    1517\n",
       "roadster        689\n",
       "unknown          11\n",
       "chassis-cab       2\n",
       "Name: Body_Type, dtype: int64"
      ]
     },
     "metadata": {},
     "output_type": "display_data"
    }
   ],
   "source": [
    "interactive(lambda col: show_values(df, col), col=all_categorical_features)"
   ]
  },
  {
   "cell_type": "markdown",
   "execution_count": null,
   "metadata": {},
   "source": [
    "## Numerical features"
   ]
  },
  {
   "cell_type": "code",
   "execution_count": 21,
   "metadata": {
    "ExecuteTime": {
     "end_time": "2020-05-29T14:38:11.004412Z",
     "start_time": "2020-05-29T14:38:10.901511Z"
    }
   },
   "outputs": [
    {
     "data": {
      "text/html": [
       "<div>\n",
       "<style scoped>\n",
       "    .dataframe tbody tr th:only-of-type {\n",
       "        vertical-align: middle;\n",
       "    }\n",
       "\n",
       "    .dataframe tbody tr th {\n",
       "        vertical-align: top;\n",
       "    }\n",
       "\n",
       "    .dataframe thead th {\n",
       "        text-align: right;\n",
       "    }\n",
       "</style>\n",
       "<table border=\"1\" class=\"dataframe\">\n",
       "  <thead>\n",
       "    <tr style=\"text-align: right;\">\n",
       "      <th></th>\n",
       "      <th>Generation_Year</th>\n",
       "      <th>Length</th>\n",
       "      <th>Height</th>\n",
       "      <th>Width</th>\n",
       "      <th>Engine_KW</th>\n",
       "      <th>No_of_Gears</th>\n",
       "      <th>Curb_Weight</th>\n",
       "      <th>CO2</th>\n",
       "      <th>Fuel_cons_combined</th>\n",
       "      <th>year</th>\n",
       "      <th>Price_USD</th>\n",
       "    </tr>\n",
       "  </thead>\n",
       "  <tbody>\n",
       "    <tr>\n",
       "      <th>count</th>\n",
       "      <td>45274.000000</td>\n",
       "      <td>45274.000000</td>\n",
       "      <td>45274.000000</td>\n",
       "      <td>45274.000000</td>\n",
       "      <td>45274.000000</td>\n",
       "      <td>45274.000000</td>\n",
       "      <td>45274.000000</td>\n",
       "      <td>45274.000000</td>\n",
       "      <td>45274.000000</td>\n",
       "      <td>45274.000000</td>\n",
       "      <td>4.527400e+04</td>\n",
       "    </tr>\n",
       "    <tr>\n",
       "      <th>mean</th>\n",
       "      <td>2008.246057</td>\n",
       "      <td>4861.294216</td>\n",
       "      <td>1720.736386</td>\n",
       "      <td>1866.225126</td>\n",
       "      <td>150.189044</td>\n",
       "      <td>5.895525</td>\n",
       "      <td>1772.756991</td>\n",
       "      <td>200.993575</td>\n",
       "      <td>8.554091</td>\n",
       "      <td>2012.787516</td>\n",
       "      <td>5.046664e+04</td>\n",
       "    </tr>\n",
       "    <tr>\n",
       "      <th>std</th>\n",
       "      <td>4.122709</td>\n",
       "      <td>683.936009</td>\n",
       "      <td>352.913339</td>\n",
       "      <td>112.832215</td>\n",
       "      <td>82.484834</td>\n",
       "      <td>1.036581</td>\n",
       "      <td>460.978136</td>\n",
       "      <td>69.090480</td>\n",
       "      <td>3.291160</td>\n",
       "      <td>2.215072</td>\n",
       "      <td>7.081308e+04</td>\n",
       "    </tr>\n",
       "    <tr>\n",
       "      <th>min</th>\n",
       "      <td>1959.000000</td>\n",
       "      <td>2337.000000</td>\n",
       "      <td>1000.000000</td>\n",
       "      <td>1237.000000</td>\n",
       "      <td>1.000000</td>\n",
       "      <td>0.000000</td>\n",
       "      <td>562.000000</td>\n",
       "      <td>0.000000</td>\n",
       "      <td>0.000000</td>\n",
       "      <td>2010.000000</td>\n",
       "      <td>3.029842e+03</td>\n",
       "    </tr>\n",
       "    <tr>\n",
       "      <th>25%</th>\n",
       "      <td>2006.000000</td>\n",
       "      <td>4427.000000</td>\n",
       "      <td>1466.000000</td>\n",
       "      <td>1793.000000</td>\n",
       "      <td>92.000000</td>\n",
       "      <td>5.000000</td>\n",
       "      <td>1448.000000</td>\n",
       "      <td>150.000000</td>\n",
       "      <td>6.150931</td>\n",
       "      <td>2010.000000</td>\n",
       "      <td>2.807782e+04</td>\n",
       "    </tr>\n",
       "    <tr>\n",
       "      <th>50%</th>\n",
       "      <td>2008.000000</td>\n",
       "      <td>4727.500000</td>\n",
       "      <td>1610.000000</td>\n",
       "      <td>1849.000000</td>\n",
       "      <td>120.000000</td>\n",
       "      <td>6.000000</td>\n",
       "      <td>1690.000000</td>\n",
       "      <td>192.000000</td>\n",
       "      <td>7.800000</td>\n",
       "      <td>2013.000000</td>\n",
       "      <td>4.026514e+04</td>\n",
       "    </tr>\n",
       "    <tr>\n",
       "      <th>75%</th>\n",
       "      <td>2011.000000</td>\n",
       "      <td>5126.000000</td>\n",
       "      <td>1890.000000</td>\n",
       "      <td>1943.000000</td>\n",
       "      <td>194.000000</td>\n",
       "      <td>6.000000</td>\n",
       "      <td>2034.000000</td>\n",
       "      <td>243.520513</td>\n",
       "      <td>10.700000</td>\n",
       "      <td>2015.000000</td>\n",
       "      <td>5.264095e+04</td>\n",
       "    </tr>\n",
       "    <tr>\n",
       "      <th>max</th>\n",
       "      <td>2018.000000</td>\n",
       "      <td>7797.000000</td>\n",
       "      <td>3250.000000</td>\n",
       "      <td>2250.000000</td>\n",
       "      <td>882.000000</td>\n",
       "      <td>10.000000</td>\n",
       "      <td>3796.000000</td>\n",
       "      <td>582.000000</td>\n",
       "      <td>24.300000</td>\n",
       "      <td>2016.000000</td>\n",
       "      <td>4.176690e+06</td>\n",
       "    </tr>\n",
       "  </tbody>\n",
       "</table>\n",
       "</div>"
      ],
      "text/plain": [
       "       Generation_Year        Length        Height         Width  \\\n",
       "count     45274.000000  45274.000000  45274.000000  45274.000000   \n",
       "mean       2008.246057   4861.294216   1720.736386   1866.225126   \n",
       "std           4.122709    683.936009    352.913339    112.832215   \n",
       "min        1959.000000   2337.000000   1000.000000   1237.000000   \n",
       "25%        2006.000000   4427.000000   1466.000000   1793.000000   \n",
       "50%        2008.000000   4727.500000   1610.000000   1849.000000   \n",
       "75%        2011.000000   5126.000000   1890.000000   1943.000000   \n",
       "max        2018.000000   7797.000000   3250.000000   2250.000000   \n",
       "\n",
       "          Engine_KW   No_of_Gears   Curb_Weight           CO2  \\\n",
       "count  45274.000000  45274.000000  45274.000000  45274.000000   \n",
       "mean     150.189044      5.895525   1772.756991    200.993575   \n",
       "std       82.484834      1.036581    460.978136     69.090480   \n",
       "min        1.000000      0.000000    562.000000      0.000000   \n",
       "25%       92.000000      5.000000   1448.000000    150.000000   \n",
       "50%      120.000000      6.000000   1690.000000    192.000000   \n",
       "75%      194.000000      6.000000   2034.000000    243.520513   \n",
       "max      882.000000     10.000000   3796.000000    582.000000   \n",
       "\n",
       "       Fuel_cons_combined          year     Price_USD  \n",
       "count        45274.000000  45274.000000  4.527400e+04  \n",
       "mean             8.554091   2012.787516  5.046664e+04  \n",
       "std              3.291160      2.215072  7.081308e+04  \n",
       "min              0.000000   2010.000000  3.029842e+03  \n",
       "25%              6.150931   2010.000000  2.807782e+04  \n",
       "50%              7.800000   2013.000000  4.026514e+04  \n",
       "75%             10.700000   2015.000000  5.264095e+04  \n",
       "max             24.300000   2016.000000  4.176690e+06  "
      ]
     },
     "execution_count": 21,
     "metadata": {},
     "output_type": "execute_result"
    }
   ],
   "source": [
    "# summary statistics\n",
    "df[numeric_features + target].describe()"
   ]
  },
  {
   "cell_type": "code",
   "execution_count": 22,
   "metadata": {
    "ExecuteTime": {
     "end_time": "2020-05-29T14:38:11.667249Z",
     "start_time": "2020-05-29T14:38:11.21036Z"
    }
   },
   "outputs": [
    {
     "name": "stdout",
     "output_type": "stream",
     "text": [
      "mean: 196.52527570375457\n",
      "median: 189.0\n"
     ]
    },
    {
     "data": {
      "image/png": "[encoded data removed]",
      "text/plain": [
       "<Figure size 720x432 with 1 Axes>"
      ]
     },
     "metadata": {},
     "output_type": "display_data"
    }
   ],
   "source": [
    "figsize = (16,12)\n",
    "sns.set(style='whitegrid', font_scale=2)\n",
    "\n",
    "bins = 1000\n",
    "bins = 40\n",
    "#xlim = [0,100000]\n",
    "xlim = None\n",
    "price_mask = df['Price_USD'] < 100000\n",
    "interactive(lambda col: plot_distribution(df[price_mask], col, bins=bins, xlim=xlim), col=sorted(all_numeric_features + target))\n",
    "#interactive(lambda col: plot_distribution(df, col, bins=bins, xlim=xlim), col=sorted(all_numeric_features + target))"
   ]
  },
  {
   "cell_type": "markdown",
   "execution_count": null,
   "metadata": {},
   "source": [
    "## Pair plot"
   ]
  },
  {
   "cell_type": "code",
   "execution_count": 23,
   "metadata": {
    "ExecuteTime": {
     "end_time": "2020-05-29T14:38:14.766105Z",
     "start_time": "2020-05-29T14:38:11.836555Z"
    }
   },
   "outputs": [
    {
     "data": {
      "text/plain": [
       "<seaborn.axisgrid.PairGrid at 0x7f8480ea4e90>"
      ]
     },
     "execution_count": 23,
     "metadata": {},
     "output_type": "execute_result"
    },
    {
     "data": {
      "image/png": "[encoded data removed]",
      "text/plain": [
       "<Figure size 360x360 with 6 Axes>"
      ]
     },
     "metadata": {},
     "output_type": "display_data"
    }
   ],
   "source": [
    "# this is quite slow\n",
    "sns.set(style='whitegrid', font_scale=1)\n",
    "# sns.pairplot(df[numeric_features[:6] + target].iloc[:10000])\n",
    "#sns.pairplot(df[['Engine_KW'] + target].iloc[:10000])\n",
    "price_mask = df['Price_USD'] < 100000\n",
    "df_temp = df[price_mask].copy()\n",
    "sns.pairplot(df_temp[['Engine_KW'] + target])"
   ]
  },
  {
   "cell_type": "markdown",
   "execution_count": null,
   "metadata": {
    "ExecuteTime": {
     "end_time": "2018-08-28T16:38:21.882193Z",
     "start_time": "2018-08-28T16:38:21.760587Z"
    }
   },
   "source": [
    "# Feature generation"
   ]
  },
  {
   "cell_type": "code",
   "execution_count": 24,
   "metadata": {
    "ExecuteTime": {
     "end_time": "2020-05-29T14:38:14.776842Z",
     "start_time": "2020-05-29T14:38:14.771329Z"
    }
   },
   "outputs": [],
   "source": [
    "additional_numeric_features = []"
   ]
  },
  {
   "cell_type": "markdown",
   "execution_count": null,
   "metadata": {},
   "source": [
    "# Feature selection\n",
    "\n",
    "You can read about feature selection here\n",
    "https://scikit-learn.org/stable/modules/feature_selection.html#"
   ]
  },
  {
   "cell_type": "markdown",
   "execution_count": null,
   "metadata": {},
   "source": [
    "The dataset is fairly clean with a moderate number of features available. For a start, I did not have to worry too much about missing values in the dataset. A few things I tried out:\n",
    "- I tried dropping Nameplate because it has too many categories and when combined with one hot encoding, could make your dataset really sparse. Dropping Nameplate certainly results in superior results when paired with Gradient Boosting algorithms, though in the end I add the feature back in since I decided to use Catboost, which takes care of categorical features really well.\n",
    "- I tried setting year and generation year to be categorical instead of numerical, as they should be. However, I did not notice any improvement. \n",
    "- There are many highly correlated features which should/could be dropped to reduce the number of dimensions. I have not tried going down the PCA path but would expect an improvement at least for Linear Regression."
   ]
  },
  {
   "cell_type": "markdown",
   "execution_count": null,
   "metadata": {},
   "source": [
    "## Drop features (optional)"
   ]
  },
  {
   "cell_type": "code",
   "execution_count": 25,
   "metadata": {
    "ExecuteTime": {
     "end_time": "2020-05-29T14:38:16.358969Z",
     "start_time": "2020-05-29T14:38:16.350164Z"
    }
   },
   "outputs": [],
   "source": [
    "features_drop = []\n",
    "\n",
    "if ml_model_type == 'Linear Regression':\n",
    "    features_drop = categorical_features + numeric_features\n",
    "    features_to_use = ['Engine_KW']\n",
    "    # features_to_use = ['country_name', 'Engine_KW']\n",
    "    for feature in features_to_use:\n",
    "        features_drop.remove(feature)\n",
    "#else:\n",
    "    #features_drop = categorical_features + numeric_features\n",
    "    #features_to_use = ['Brand', 'country_name', 'Engine_KW']\n",
    "    #features_to_use = ['country_name', 'Engine_KW']\n",
    "    #for feature in features_to_use:\n",
    "        #features_drop.remove(feature)\n",
    "    #features_drop = ['Nameplate']\n",
    "    \n",
    "\n",
    "categorical_features = list(filter(lambda f: f not in features_drop, categorical_features))\n",
    "numeric_features = list(filter(lambda f: f not in features_drop, numeric_features))"
   ]
  },
  {
   "cell_type": "code",
   "execution_count": 26,
   "metadata": {
    "ExecuteTime": {
     "end_time": "2020-05-29T14:38:17.077685Z",
     "start_time": "2020-05-29T14:38:17.072195Z"
    }
   },
   "outputs": [
    {
     "data": {
      "text/plain": [
       "23"
      ]
     },
     "execution_count": 26,
     "metadata": {},
     "output_type": "execute_result"
    }
   ],
   "source": [
    "features = categorical_features + numeric_features + additional_numeric_features\n",
    "model_columns = features + [target_name]\n",
    "len(model_columns)"
   ]
  },
  {
   "cell_type": "markdown",
   "execution_count": null,
   "metadata": {},
   "source": [
    "#  ML data preparation"
   ]
  },
  {
   "cell_type": "code",
   "execution_count": 27,
   "metadata": {
    "ExecuteTime": {
     "end_time": "2020-05-29T14:38:28.65831Z",
     "start_time": "2020-05-29T14:38:28.63968Z"
    }
   },
   "outputs": [
    {
     "data": {
      "text/plain": [
       "(45274, 23)"
      ]
     },
     "execution_count": 27,
     "metadata": {},
     "output_type": "execute_result"
    }
   ],
   "source": [
    "#dataframe for further processing\n",
    "df_proc = df[model_columns].copy()\n",
    "df_proc.shape"
   ]
  },
  {
   "cell_type": "markdown",
   "execution_count": null,
   "metadata": {},
   "source": [
    "## Categorical feature encoding"
   ]
  },
  {
   "cell_type": "markdown",
   "execution_count": null,
   "metadata": {},
   "source": [
    "I did not use one hot encoding, and instead let Catboost take care of the categorical variables."
   ]
  },
  {
   "cell_type": "code",
   "execution_count": 28,
   "metadata": {
    "ExecuteTime": {
     "end_time": "2020-05-29T14:38:30.367343Z",
     "start_time": "2020-05-29T14:38:30.278197Z"
    }
   },
   "outputs": [],
   "source": [
    "# One-hot encoding\n",
    "#encoder = ce.OneHotEncoder(cols=categorical_features, handle_unknown='value', \n",
    "                           #use_cat_names=True)\n",
    "#encoder.fit(df_proc)\n",
    "#df_comb_ext = encoder.transform(df_proc)\n",
    "#features_ext = list(df_comb_ext.columns)\n",
    "#features_ext.remove(target_name)"
   ]
  },
  {
   "cell_type": "code",
   "execution_count": 29,
   "metadata": {
    "ExecuteTime": {
     "end_time": "2020-05-29T14:38:31.1621Z",
     "start_time": "2020-05-29T14:38:31.146952Z"
    }
   },
   "outputs": [],
   "source": [
    "#del df_proc\n",
    "#df_comb_ext.head()"
   ]
  },
  {
   "cell_type": "code",
   "execution_count": 30,
   "metadata": {
    "ExecuteTime": {
     "end_time": "2020-05-29T14:39:30.518639Z",
     "start_time": "2020-05-29T14:39:30.512862Z"
    }
   },
   "outputs": [],
   "source": [
    "# df_comb_ext.memory_usage(deep=True).sum()/1e9\n",
    "#features_model\n",
    "#df_comb_ext.shape"
   ]
  },
  {
   "cell_type": "markdown",
   "execution_count": null,
   "metadata": {},
   "source": [
    "## Train test split"
   ]
  },
  {
   "cell_type": "code",
   "execution_count": 31,
   "metadata": {
    "ExecuteTime": {
     "end_time": "2020-05-29T14:39:34.306891Z",
     "start_time": "2020-05-29T14:39:34.286521Z"
    }
   },
   "outputs": [
    {
     "name": "stdout",
     "output_type": "stream",
     "text": [
      "(36219, 22)\n",
      "(9055, 22)\n"
     ]
    }
   ],
   "source": [
    "#X_train, X_test, y_train, y_test = train_test_split(df_comb_ext[features_ext], df_comb_ext[target_name], \n",
    "                                                    #test_size=test_size, random_state=random_state)\n",
    "X_train, X_test, y_train, y_test = train_test_split(df_proc[features], df_proc[target_name], \n",
    "                                                    test_size=test_size, random_state=random_state)\n",
    "print(X_train.shape)\n",
    "print(X_test.shape)"
   ]
  },
  {
   "cell_type": "markdown",
   "execution_count": null,
   "metadata": {},
   "source": [
    "Scaling did not seem to improve any performance, which I think could be because I was using a tree-based model, where scaling isn't exactly a deal breaker."
   ]
  },
  {
   "cell_type": "code",
   "execution_count": 32,
   "metadata": {},
   "outputs": [],
   "source": [
    "#scaler = MinMaxScaler()\n",
    "#X_train_scaled = scaler.fit_transform(X_train)\n",
    "#X_test_scaled = scaler.fit_transform(X_test)"
   ]
  },
  {
   "cell_type": "markdown",
   "execution_count": null,
   "metadata": {},
   "source": [
    "# Machine learning model\n",
    "\n",
    "Supervised learning\n",
    "\n",
    "https://scikit-learn.org/stable/supervised_learning.html\n",
    "\n",
    "Ensemble methods in scikit learn\n",
    "\n",
    "https://scikit-learn.org/stable/modules/ensemble.html\n",
    "\n",
    "\n",
    "Decision trees\n",
    "\n",
    "https://scikit-learn.org/stable/modules/tree.html\n"
   ]
  },
  {
   "cell_type": "markdown",
   "execution_count": null,
   "metadata": {},
   "source": [
    "Before deciding on a model to use, I try running the dataset through a handful of out of the box sklearn algorithms. Uncomment this cell if you want to check out the results. Gradient Boosting gave me the best result i.e. lowest MSE."
   ]
  },
  {
   "cell_type": "code",
   "execution_count": 33,
   "metadata": {},
   "outputs": [],
   "source": [
    "#pipelines = []\n",
    "#pipelines.append(('ScaledLR', Pipeline([('Scaler', StandardScaler()),('LR',LinearRegression())])))\n",
    "#pipelines.append(('ScaledEN', Pipeline([('Scaler', StandardScaler()),('EN', ElasticNet())])))\n",
    "#pipelines.append(('ScaledKNN', Pipeline([('Scaler', StandardScaler()),('KNN', KNeighborsRegressor())])))\n",
    "#pipelines.append(('ScaledCART', Pipeline([('Scaler', StandardScaler()),('CART', DecisionTreeRegressor())])))\n",
    "#pipelines.append(('ScaledGBM', Pipeline([('Scaler', StandardScaler()),('GBM', GradientBoostingRegressor())])))\n",
    "\n",
    "#results = []\n",
    "#names = []\n",
    "#for name, model in pipelines:\n",
    "    #cv_results = cross_val_score(model, X_train, y_train, cv=10, scoring='neg_mean_squared_error')\n",
    "    #results.append(cv_results)\n",
    "    #names.append(name)\n",
    "    #msg = \"%s: %f (%f)\" % (name, cv_results.mean(), cv_results.std())\n",
    "    #print(msg)"
   ]
  },
  {
   "cell_type": "markdown",
   "execution_count": null,
   "metadata": {},
   "source": [
    "##  Model definition"
   ]
  },
  {
   "cell_type": "code",
   "execution_count": 34,
   "metadata": {
    "ExecuteTime": {
     "end_time": "2020-05-29T14:39:59.295716Z",
     "start_time": "2020-05-29T14:39:59.278996Z"
    }
   },
   "outputs": [],
   "source": [
    "if ml_model_type == 'Linear Regression':\n",
    "    model_hyper_parameters_dict = OrderedDict(fit_intercept=True, normalize=False)\n",
    "    regressor =  LinearRegression(**model_hyper_parameters_dict)\n",
    "\n",
    "if ml_model_type == 'Decision Tree':\n",
    "    model_hyper_parameters_dict = OrderedDict(max_depth=3, random_state=random_state)\n",
    "    regressor =  DecisionTreeRegressor(**model_hyper_parameters_dict)\n",
    "      \n",
    "if ml_model_type == 'Random Forest':\n",
    "\n",
    "    model_hyper_parameters_dict = OrderedDict(n_estimators=10, \n",
    "                                              max_depth=4, \n",
    "                                              min_samples_split=2, \n",
    "                                              max_features='sqrt',\n",
    "                                              min_samples_leaf=1, \n",
    "                                              random_state=random_state, \n",
    "                                              n_jobs=4)\n",
    "   \n",
    "    regressor = RandomForestRegressor(**model_hyper_parameters_dict)\n",
    "\n",
    "if ml_model_type == 'Gradient Boosting Regressor':\n",
    "    model_hyper_parameters_dict = OrderedDict(learning_rate=0.1,\n",
    "                                              max_depth=6,\n",
    "                                              subsample=0.8,\n",
    "                                              max_features=0.2,\n",
    "                                             n_estimators=200,\n",
    "                                             random_state=random_state)\n",
    "    regressor = GradientBoostingRegressor(**model_hyper_parameters_dict)\n",
    "    \n",
    "\n",
    "if ml_model_type == 'AdaBoost':\n",
    "    model_hyper_parameters_dict = OrderedDict(n_estimators=180,\n",
    "                                             random_state=random_state)\n",
    "    regressor = AdaBoostRegressor(**model_hyper_parameters_dict)\n",
    "    \n",
    "    \n",
    "    \n",
    "if ml_model_type == 'XGBoost':\n",
    "    model_hyper_parameters_dict = OrderedDict(learning_rate=0.01,\n",
    "                                              colsample_bytree=0.3,\n",
    "                                              max_depth=3,\n",
    "                                              subsample=0.8,\n",
    "                                              n_estimators=1000,\n",
    "                                              seed=random_state)\n",
    "    \n",
    "    regressor = xgb.XGBRegressor(**model_hyper_parameters_dict)\n",
    "    \n",
    "\n",
    "if ml_model_type == 'CatBoost':\n",
    "    model_hyper_parameters_dict = OrderedDict(iterations=4000,\n",
    "                                              early_stopping_rounds=50,\n",
    "                                              learning_rate=0.05,\n",
    "                                              depth=12,\n",
    "                                              one_hot_max_size=40,\n",
    "                                              colsample_bylevel=0.5,\n",
    "                                              bagging_temperature=12,\n",
    "                                              random_strength=0.7,\n",
    "                                              reg_lambda=1.0,\n",
    "                                              eval_metric='RMSE',\n",
    "                                              logging_level='Silent',\n",
    "                                              random_seed = random_state)\n",
    "    \n",
    "    regressor = CatBoostRegressor(**model_hyper_parameters_dict)    \n",
    "    \n",
    "base_regressor = clone(regressor)\n",
    "    \n",
    "if do_grid_search_cv:\n",
    "    \n",
    "    scoring = make_scorer(metrics_dict_res[regression_metric], greater_is_better=scoring_greater_is_better)\n",
    "    \n",
    "    if ml_model_type == 'Random Forest':\n",
    "        \n",
    "\n",
    "        grid_parameters = [{'n_estimators': [10], 'max_depth': [3, 5, 10], \n",
    "                             'min_samples_split': [2,4], 'min_samples_leaf': [1]} ]\n",
    "        \n",
    "    if ml_model_type == 'XGBoost':\n",
    "        \n",
    "        grid_parameters = [{'colsample_bytree':[0.1, 0.2, 0.3, 0.4, 0.5, 0.6, 0.7, 0.8, 1.0]}]\n",
    "        \n",
    "    if ml_model_type == 'CatBoost':\n",
    "        \n",
    "        grid_parameters = [{'learning_rate': [0.1, 0.3, 0.5, 0.8]}]\n",
    "        \n",
    "    n_splits = 10\n",
    "    n_jobs = 4\n",
    "    cv_regressor = GridSearchCV(regressor, grid_parameters, cv=n_splits, scoring=scoring, return_train_score=True,\n",
    "                                refit=True, n_jobs=n_jobs)    "
   ]
  },
  {
   "cell_type": "code",
   "execution_count": 35,
   "metadata": {},
   "outputs": [],
   "source": [
    "# Use XGBoost API Learner. Comment the whole cell out if you want to use other models\n",
    "#DM_train = xgb.DMatrix(data=X_train,label=y_train)\n",
    "#DM_test =  xgb.DMatrix(data=X_test,label=y_test)\n",
    "#params = {\"booster\":\"gblinear\", \"objective\":\"reg:linear\"}\n",
    "#xg_reg = xgb.train(params = params, dtrain=DM_train, num_boost_round=5)"
   ]
  },
  {
   "cell_type": "markdown",
   "execution_count": null,
   "metadata": {},
   "source": [
    "## ML model training"
   ]
  },
  {
   "cell_type": "code",
   "execution_count": 36,
   "metadata": {
    "ExecuteTime": {
     "end_time": "2020-05-29T14:40:00.560726Z",
     "start_time": "2020-05-29T14:40:00.5382Z"
    }
   },
   "outputs": [],
   "source": [
    "if do_grid_search_cv:\n",
    "    cv_regressor.fit(X_train, y_train, cat_features=categorical_features)\n",
    "    regressor_best = cv_regressor.best_estimator_\n",
    "    model_hyper_parameters_dict = cv_regressor.best_params_\n",
    "    train_scores = cv_regressor.cv_results_['mean_train_score']\n",
    "    test_scores = cv_regressor.cv_results_['mean_test_score']\n",
    "    test_scores_std = cv_regressor.cv_results_['std_test_score']\n",
    "    cv_results = cv_regressor.cv_results_\n",
    "\n",
    "elif ml_model_type == 'CatBoost':\n",
    "    regressor.fit(X_train, y_train, cat_features=categorical_features)\n",
    "    \n",
    "else:\n",
    "    regressor.fit(X_train, y_train)"
   ]
  },
  {
   "cell_type": "code",
   "execution_count": 37,
   "metadata": {
    "ExecuteTime": {
     "end_time": "2020-05-29T14:40:01.48134Z",
     "start_time": "2020-05-29T14:40:01.47227Z"
    }
   },
   "outputs": [],
   "source": [
    "if do_grid_search_cv:\n",
    "    # print(cv_results)\n",
    "    print(model_hyper_parameters_dict)\n",
    "    plt.plot(-train_scores, label='train')\n",
    "    plt.plot(-test_scores, label='test')\n",
    "    plt.xlabel('Parameter set #')\n",
    "    plt.legend()\n",
    "    regressor = regressor_best"
   ]
  },
  {
   "cell_type": "markdown",
   "execution_count": null,
   "metadata": {},
   "source": [
    "# Model evaluation"
   ]
  },
  {
   "cell_type": "markdown",
   "execution_count": null,
   "metadata": {},
   "source": [
    "## Train, test predictions"
   ]
  },
  {
   "cell_type": "code",
   "execution_count": 38,
   "metadata": {
    "ExecuteTime": {
     "end_time": "2020-05-29T14:40:05.921862Z",
     "start_time": "2020-05-29T14:40:05.904623Z"
    }
   },
   "outputs": [],
   "source": [
    "y_train_pred = regressor.predict(X_train)\n",
    "y_test_pred = regressor.predict(X_test)\n",
    "#y_train_pred = xg_reg.predict(DM_train)\n",
    "#y_test_pred = xg_reg.predict(DM_test)"
   ]
  },
  {
   "cell_type": "markdown",
   "execution_count": null,
   "metadata": {},
   "source": [
    "## Regression coefficients/Feature importance"
   ]
  },
  {
   "cell_type": "code",
   "execution_count": 39,
   "metadata": {
    "ExecuteTime": {
     "end_time": "2020-05-29T14:40:07.452322Z",
     "start_time": "2020-05-29T14:40:07.442846Z"
    }
   },
   "outputs": [],
   "source": [
    "if ml_model_type == 'Linear Regression':\n",
    "    df_reg_coef = (pd.DataFrame(zip(['intercept'] + list(X_train.columns), \n",
    "                               [regressor.intercept_] + list(regressor.coef_)))\n",
    "                 .rename({0: 'feature', 1: 'coefficient value'}, axis=1))\n",
    "    display(df_reg_coef)"
   ]
  },
  {
   "cell_type": "code",
   "execution_count": 40,
   "metadata": {
    "ExecuteTime": {
     "end_time": "2020-05-29T14:40:10.591423Z",
     "start_time": "2020-05-29T14:40:10.246242Z"
    }
   },
   "outputs": [
    {
     "ename": "NameError",
     "evalue": "name 'features_ext' is not defined",
     "output_type": "error",
     "traceback": [
      "\u001b[0;31m---------------------------------------------------------------------------\u001b[0m",
      "\u001b[0;31mNameError\u001b[0m                                 Traceback (most recent call last)",
      "\u001b[0;32m<ipython-input-40-30b07f331ba2>\u001b[0m in \u001b[0;36m<module>\u001b[0;34m\u001b[0m\n\u001b[1;32m      2\u001b[0m     \u001b[0msns\u001b[0m\u001b[0;34m.\u001b[0m\u001b[0mset\u001b[0m\u001b[0;34m(\u001b[0m\u001b[0mstyle\u001b[0m\u001b[0;34m=\u001b[0m\u001b[0;34m'whitegrid'\u001b[0m\u001b[0;34m,\u001b[0m \u001b[0mfont_scale\u001b[0m\u001b[0;34m=\u001b[0m\u001b[0;36m1.5\u001b[0m\u001b[0;34m)\u001b[0m\u001b[0;34m\u001b[0m\u001b[0;34m\u001b[0m\u001b[0m\n\u001b[1;32m      3\u001b[0m     \u001b[0mplt\u001b[0m\u001b[0;34m.\u001b[0m\u001b[0mfigure\u001b[0m\u001b[0;34m(\u001b[0m\u001b[0mfigsize\u001b[0m\u001b[0;34m=\u001b[0m\u001b[0;34m(\u001b[0m\u001b[0;36m12\u001b[0m\u001b[0;34m,\u001b[0m\u001b[0;36m10\u001b[0m\u001b[0;34m)\u001b[0m\u001b[0;34m)\u001b[0m\u001b[0;34m\u001b[0m\u001b[0;34m\u001b[0m\u001b[0m\n\u001b[0;32m----> 4\u001b[0;31m     \u001b[0mplot_feature_importances\u001b[0m\u001b[0;34m(\u001b[0m\u001b[0mregressor\u001b[0m\u001b[0;34m,\u001b[0m \u001b[0mfeatures_ext\u001b[0m\u001b[0;34m,\u001b[0m \u001b[0mn_features\u001b[0m\u001b[0;34m=\u001b[0m\u001b[0mnp\u001b[0m\u001b[0;34m.\u001b[0m\u001b[0mminimum\u001b[0m\u001b[0;34m(\u001b[0m\u001b[0;36m20\u001b[0m\u001b[0;34m,\u001b[0m \u001b[0mX_train\u001b[0m\u001b[0;34m.\u001b[0m\u001b[0mshape\u001b[0m\u001b[0;34m[\u001b[0m\u001b[0;36m1\u001b[0m\u001b[0;34m]\u001b[0m\u001b[0;34m)\u001b[0m\u001b[0;34m)\u001b[0m\u001b[0;34m\u001b[0m\u001b[0;34m\u001b[0m\u001b[0m\n\u001b[0m",
      "\u001b[0;31mNameError\u001b[0m: name 'features_ext' is not defined"
     ]
    },
    {
     "data": {
      "text/plain": [
       "<Figure size 864x720 with 0 Axes>"
      ]
     },
     "metadata": {},
     "output_type": "display_data"
    }
   ],
   "source": [
    "if hasattr(regressor, 'feature_importances_'):\n",
    "    sns.set(style='whitegrid', font_scale=1.5)\n",
    "    plt.figure(figsize=(12,10))\n",
    "    plot_feature_importances(regressor, features_ext, n_features=np.minimum(20, X_train.shape[1]))"
   ]
  },
  {
   "cell_type": "markdown",
   "execution_count": null,
   "metadata": {},
   "source": [
    "## Metrics"
   ]
  },
  {
   "cell_type": "code",
   "execution_count": 41,
   "metadata": {
    "ExecuteTime": {
     "end_time": "2020-05-29T14:40:24.380927Z",
     "start_time": "2020-05-29T14:40:24.335536Z"
    }
   },
   "outputs": [
    {
     "data": {
      "text/html": [
       "<div>\n",
       "<style scoped>\n",
       "    .dataframe tbody tr th:only-of-type {\n",
       "        vertical-align: middle;\n",
       "    }\n",
       "\n",
       "    .dataframe tbody tr th {\n",
       "        vertical-align: top;\n",
       "    }\n",
       "\n",
       "    .dataframe thead th {\n",
       "        text-align: right;\n",
       "    }\n",
       "</style>\n",
       "<table border=\"1\" class=\"dataframe\">\n",
       "  <thead>\n",
       "    <tr style=\"text-align: right;\">\n",
       "      <th></th>\n",
       "      <th>train</th>\n",
       "      <th>test</th>\n",
       "    </tr>\n",
       "  </thead>\n",
       "  <tbody>\n",
       "    <tr>\n",
       "      <th>mean_absolute_error</th>\n",
       "      <td>1,353.470</td>\n",
       "      <td>4,042.349</td>\n",
       "    </tr>\n",
       "    <tr>\n",
       "      <th>median_absolute_error</th>\n",
       "      <td>645.671</td>\n",
       "      <td>1,399.090</td>\n",
       "    </tr>\n",
       "    <tr>\n",
       "      <th>root_mean_squared_error</th>\n",
       "      <td>13,909.313</td>\n",
       "      <td>42,516.858</td>\n",
       "    </tr>\n",
       "    <tr>\n",
       "      <th>mean abs perc error</th>\n",
       "      <td>0.027</td>\n",
       "      <td>0.057</td>\n",
       "    </tr>\n",
       "    <tr>\n",
       "      <th>Counts</th>\n",
       "      <td>36219</td>\n",
       "      <td>9055</td>\n",
       "    </tr>\n",
       "  </tbody>\n",
       "</table>\n",
       "</div>"
      ],
      "text/plain": [
       "                              train        test\n",
       "mean_absolute_error       1,353.470   4,042.349\n",
       "median_absolute_error       645.671   1,399.090\n",
       "root_mean_squared_error  13,909.313  42,516.858\n",
       "mean abs perc error           0.027       0.057\n",
       "Counts                        36219        9055"
      ]
     },
     "execution_count": 41,
     "metadata": {},
     "output_type": "execute_result"
    }
   ],
   "source": [
    "df_regression_metrics = regression_metrics_yin(y_train, y_train_pred, y_test, y_test_pred,\n",
    "                                               metrics_dict_res, format_digits=3)\n",
    "\n",
    "df_output = df_regression_metrics.copy()\n",
    "df_output.loc['Counts','train'] = len(y_train)\n",
    "df_output.loc['Counts','test'] = len(y_test)\n",
    "df_output"
   ]
  },
  {
   "cell_type": "markdown",
   "execution_count": null,
   "metadata": {},
   "source": [
    "##  Model Performance plots"
   ]
  },
  {
   "cell_type": "code",
   "execution_count": 42,
   "metadata": {
    "ExecuteTime": {
     "end_time": "2020-05-29T14:40:38.49867Z",
     "start_time": "2020-05-29T14:40:37.737858Z"
    },
    "scrolled": false
   },
   "outputs": [
    {
     "name": "stdout",
     "output_type": "stream",
     "text": [
      "\n"
     ]
    },
    {
     "data": {
      "image/png": "[encoded data removed]",
      "text/plain": [
       "<Figure size 1152x720 with 1 Axes>"
      ]
     },
     "metadata": {},
     "output_type": "display_data"
    }
   ],
   "source": [
    "figsize = (16,10)\n",
    "xlim = [0, 250]\n",
    "font={'size': 20}\n",
    "sns.set(style='whitegrid', font_scale=2.5)\n",
    "act_label = 'actual price [k$]'\n",
    "pred_label='predicted price [k$]'\n",
    "plot_act_vs_pred(y_test, y_test_pred, scale=1000, act_label=act_label, pred_label=pred_label, \n",
    "                 figsize=figsize, xlim=xlim, ylim=xlim, font=font)\n",
    "print()"
   ]
  },
  {
   "cell_type": "code",
   "execution_count": 43,
   "metadata": {
    "ExecuteTime": {
     "end_time": "2020-05-29T14:40:58.63776Z",
     "start_time": "2020-05-29T14:40:56.905724Z"
    }
   },
   "outputs": [
    {
     "name": "stdout",
     "output_type": "stream",
     "text": [
      "mean % dev: 5.723764795512382\n",
      "median % dev: 3.7276411961524105\n",
      "\n"
     ]
    },
    {
     "data": {
      "image/png": "[encoded data removed]",
      "text/plain": [
       "<Figure size 1008x576 with 1 Axes>"
      ]
     },
     "metadata": {},
     "output_type": "display_data"
    }
   ],
   "source": [
    "figsize = (14,8)\n",
    "xlim = [0, 100]\n",
    "#xlim = [-100, 100]\n",
    "# xlim = [-50, 50]\n",
    "#xlim = [-20, 20]\n",
    "\n",
    "font={'size': 20}\n",
    "sns.set(style='whitegrid', font_scale=1.5)\n",
    "\n",
    "p_error = (y_test_pred - y_test)/y_test *100\n",
    "df_p_error = pd.DataFrame(p_error.values, columns=['percent_error'])\n",
    "#display(df_p_error['percent_error'].describe().to_frame())\n",
    "\n",
    "bins=1000\n",
    "bins=500\n",
    "#bins=100\n",
    "absolute = True\n",
    "#absolute = False\n",
    "plot_dev_distribution(y_test, y_test_pred, absolute=absolute, figsize=figsize, \n",
    "                      xlim=xlim, bins=bins, font=font)\n",
    "print()"
   ]
  },
  {
   "cell_type": "markdown",
   "execution_count": null,
   "metadata": {},
   "source": [
    "## Optionally retrain on the whole data set"
   ]
  },
  {
   "cell_type": "code",
   "execution_count": 44,
   "metadata": {
    "ExecuteTime": {
     "end_time": "2020-05-29T14:41:16.743705Z",
     "start_time": "2020-05-29T14:41:16.709531Z"
    }
   },
   "outputs": [],
   "source": [
    "if do_retrain_total:\n",
    "    cv_opt_model = clone(base_regressor.set_params(**model_hyper_parameters_dict))\n",
    "    # train on complete data set\n",
    "    #X_train_full = df_comb_ext[features_ext].copy()\n",
    "    #y_train_full = df_comb_ext[target_name].values\n",
    "    X_train_full = df_proc[features].copy()\n",
    "    y_train_full = df_proc[target_name].values\n",
    "    #cv_opt_model.fit(X_train_full, y_train_full) \n",
    "    cv_opt_model.fit(X_train_full, y_train_full, cat_features=categorical_features) \n",
    "    regressor = cv_opt_model"
   ]
  },
  {
   "cell_type": "markdown",
   "execution_count": null,
   "metadata": {},
   "source": [
    "# Apply model to OOS data"
   ]
  },
  {
   "cell_type": "code",
   "execution_count": 45,
   "metadata": {
    "ExecuteTime": {
     "end_time": "2020-05-29T14:41:17.814413Z",
     "start_time": "2020-05-29T14:41:17.805837Z"
    }
   },
   "outputs": [],
   "source": [
    "# df_oos.head()"
   ]
  },
  {
   "cell_type": "markdown",
   "execution_count": null,
   "metadata": {},
   "source": [
    "## Subset to relevant columns"
   ]
  },
  {
   "cell_type": "code",
   "execution_count": 46,
   "metadata": {
    "ExecuteTime": {
     "end_time": "2020-05-29T14:41:18.561713Z",
     "start_time": "2020-05-29T14:41:18.555399Z"
    }
   },
   "outputs": [],
   "source": [
    "df_proc_oos = df_oos[model_columns[:-1]].copy()\n",
    "df_proc_oos[target_name] = 1"
   ]
  },
  {
   "cell_type": "code",
   "execution_count": 47,
   "metadata": {},
   "outputs": [
    {
     "data": {
      "text/html": [
       "<div>\n",
       "<style scoped>\n",
       "    .dataframe tbody tr th:only-of-type {\n",
       "        vertical-align: middle;\n",
       "    }\n",
       "\n",
       "    .dataframe tbody tr th {\n",
       "        vertical-align: top;\n",
       "    }\n",
       "\n",
       "    .dataframe thead th {\n",
       "        text-align: right;\n",
       "    }\n",
       "</style>\n",
       "<table border=\"1\" class=\"dataframe\">\n",
       "  <thead>\n",
       "    <tr style=\"text-align: right;\">\n",
       "      <th></th>\n",
       "      <th>Body_Type</th>\n",
       "      <th>Driven_Wheels</th>\n",
       "      <th>Global_Sales_Sub-Segment</th>\n",
       "      <th>Brand</th>\n",
       "      <th>Nameplate</th>\n",
       "      <th>Transmission</th>\n",
       "      <th>Turbo</th>\n",
       "      <th>Fuel_Type</th>\n",
       "      <th>PropSysDesign</th>\n",
       "      <th>Plugin</th>\n",
       "      <th>Registration_Type</th>\n",
       "      <th>country_name</th>\n",
       "      <th>Generation_Year</th>\n",
       "      <th>Length</th>\n",
       "      <th>Height</th>\n",
       "      <th>Width</th>\n",
       "      <th>Engine_KW</th>\n",
       "      <th>No_of_Gears</th>\n",
       "      <th>Curb_Weight</th>\n",
       "      <th>CO2</th>\n",
       "      <th>Fuel_cons_combined</th>\n",
       "      <th>year</th>\n",
       "      <th>Price_USD</th>\n",
       "    </tr>\n",
       "    <tr>\n",
       "      <th>vehicle_id</th>\n",
       "      <th></th>\n",
       "      <th></th>\n",
       "      <th></th>\n",
       "      <th></th>\n",
       "      <th></th>\n",
       "      <th></th>\n",
       "      <th></th>\n",
       "      <th></th>\n",
       "      <th></th>\n",
       "      <th></th>\n",
       "      <th></th>\n",
       "      <th></th>\n",
       "      <th></th>\n",
       "      <th></th>\n",
       "      <th></th>\n",
       "      <th></th>\n",
       "      <th></th>\n",
       "      <th></th>\n",
       "      <th></th>\n",
       "      <th></th>\n",
       "      <th></th>\n",
       "      <th></th>\n",
       "      <th></th>\n",
       "    </tr>\n",
       "  </thead>\n",
       "  <tbody>\n",
       "    <tr>\n",
       "      <th>45274</th>\n",
       "      <td>coupe</td>\n",
       "      <td>rear</td>\n",
       "      <td>sport</td>\n",
       "      <td>chevrolet</td>\n",
       "      <td>camaro</td>\n",
       "      <td>manual</td>\n",
       "      <td>non turbo</td>\n",
       "      <td>gas</td>\n",
       "      <td>ice</td>\n",
       "      <td>no</td>\n",
       "      <td>Passenger Cars</td>\n",
       "      <td>USA</td>\n",
       "      <td>2015.0</td>\n",
       "      <td>4783.000000</td>\n",
       "      <td>1349.000000</td>\n",
       "      <td>1897.000000</td>\n",
       "      <td>250.0</td>\n",
       "      <td>6.0</td>\n",
       "      <td>1521.000000</td>\n",
       "      <td>268.000000</td>\n",
       "      <td>11.200000</td>\n",
       "      <td>2017</td>\n",
       "      <td>1</td>\n",
       "    </tr>\n",
       "    <tr>\n",
       "      <th>45275</th>\n",
       "      <td>suv</td>\n",
       "      <td>rear</td>\n",
       "      <td>suv</td>\n",
       "      <td>foday</td>\n",
       "      <td>lan fu</td>\n",
       "      <td>manual</td>\n",
       "      <td>turbo</td>\n",
       "      <td>gas</td>\n",
       "      <td>ice</td>\n",
       "      <td>no</td>\n",
       "      <td>Passenger Cars</td>\n",
       "      <td>China</td>\n",
       "      <td>2014.0</td>\n",
       "      <td>4771.000000</td>\n",
       "      <td>1828.000000</td>\n",
       "      <td>1870.000000</td>\n",
       "      <td>160.0</td>\n",
       "      <td>5.0</td>\n",
       "      <td>1790.347059</td>\n",
       "      <td>189.352914</td>\n",
       "      <td>7.931139</td>\n",
       "      <td>2017</td>\n",
       "      <td>1</td>\n",
       "    </tr>\n",
       "    <tr>\n",
       "      <th>45276</th>\n",
       "      <td>hatchback</td>\n",
       "      <td>awd</td>\n",
       "      <td>car</td>\n",
       "      <td>tesla</td>\n",
       "      <td>model s</td>\n",
       "      <td>automatic</td>\n",
       "      <td>non turbo</td>\n",
       "      <td>electricity</td>\n",
       "      <td>electric</td>\n",
       "      <td>yes</td>\n",
       "      <td>Passenger Cars</td>\n",
       "      <td>Germany</td>\n",
       "      <td>2012.0</td>\n",
       "      <td>4970.000000</td>\n",
       "      <td>1435.000000</td>\n",
       "      <td>1964.000000</td>\n",
       "      <td>449.0</td>\n",
       "      <td>0.0</td>\n",
       "      <td>2175.000000</td>\n",
       "      <td>0.000000</td>\n",
       "      <td>0.000000</td>\n",
       "      <td>2017</td>\n",
       "      <td>1</td>\n",
       "    </tr>\n",
       "    <tr>\n",
       "      <th>45277</th>\n",
       "      <td>suv</td>\n",
       "      <td>front</td>\n",
       "      <td>suv</td>\n",
       "      <td>kia</td>\n",
       "      <td>sorento</td>\n",
       "      <td>automatic</td>\n",
       "      <td>turbo</td>\n",
       "      <td>diesel</td>\n",
       "      <td>ice</td>\n",
       "      <td>no</td>\n",
       "      <td>Passenger Cars</td>\n",
       "      <td>China</td>\n",
       "      <td>2014.0</td>\n",
       "      <td>4780.000000</td>\n",
       "      <td>1685.000000</td>\n",
       "      <td>1890.000000</td>\n",
       "      <td>147.0</td>\n",
       "      <td>6.0</td>\n",
       "      <td>1878.029422</td>\n",
       "      <td>164.815251</td>\n",
       "      <td>6.316334</td>\n",
       "      <td>2017</td>\n",
       "      <td>1</td>\n",
       "    </tr>\n",
       "    <tr>\n",
       "      <th>45278</th>\n",
       "      <td>suv</td>\n",
       "      <td>awd</td>\n",
       "      <td>suv</td>\n",
       "      <td>volkswagen</td>\n",
       "      <td>teramont</td>\n",
       "      <td>automatic</td>\n",
       "      <td>turbo</td>\n",
       "      <td>gas</td>\n",
       "      <td>ice</td>\n",
       "      <td>no</td>\n",
       "      <td>Passenger Cars</td>\n",
       "      <td>China</td>\n",
       "      <td>2016.0</td>\n",
       "      <td>5039.000000</td>\n",
       "      <td>1773.000000</td>\n",
       "      <td>1989.000000</td>\n",
       "      <td>162.0</td>\n",
       "      <td>7.0</td>\n",
       "      <td>2292.418810</td>\n",
       "      <td>301.233333</td>\n",
       "      <td>16.009000</td>\n",
       "      <td>2017</td>\n",
       "      <td>1</td>\n",
       "    </tr>\n",
       "    <tr>\n",
       "      <th>...</th>\n",
       "      <td>...</td>\n",
       "      <td>...</td>\n",
       "      <td>...</td>\n",
       "      <td>...</td>\n",
       "      <td>...</td>\n",
       "      <td>...</td>\n",
       "      <td>...</td>\n",
       "      <td>...</td>\n",
       "      <td>...</td>\n",
       "      <td>...</td>\n",
       "      <td>...</td>\n",
       "      <td>...</td>\n",
       "      <td>...</td>\n",
       "      <td>...</td>\n",
       "      <td>...</td>\n",
       "      <td>...</td>\n",
       "      <td>...</td>\n",
       "      <td>...</td>\n",
       "      <td>...</td>\n",
       "      <td>...</td>\n",
       "      <td>...</td>\n",
       "      <td>...</td>\n",
       "      <td>...</td>\n",
       "    </tr>\n",
       "    <tr>\n",
       "      <th>51488</th>\n",
       "      <td>suv</td>\n",
       "      <td>front</td>\n",
       "      <td>suv</td>\n",
       "      <td>seat</td>\n",
       "      <td>tarraco</td>\n",
       "      <td>unknown</td>\n",
       "      <td>unknown</td>\n",
       "      <td>gas</td>\n",
       "      <td>ice</td>\n",
       "      <td>no</td>\n",
       "      <td>Passenger Cars</td>\n",
       "      <td>Germany</td>\n",
       "      <td>2018.0</td>\n",
       "      <td>4867.732891</td>\n",
       "      <td>1827.178584</td>\n",
       "      <td>1890.899528</td>\n",
       "      <td>110.0</td>\n",
       "      <td>6.0</td>\n",
       "      <td>1812.814211</td>\n",
       "      <td>262.996111</td>\n",
       "      <td>13.536496</td>\n",
       "      <td>2018</td>\n",
       "      <td>1</td>\n",
       "    </tr>\n",
       "    <tr>\n",
       "      <th>51489</th>\n",
       "      <td>suv</td>\n",
       "      <td>front</td>\n",
       "      <td>suv</td>\n",
       "      <td>hyundai</td>\n",
       "      <td>kona</td>\n",
       "      <td>unknown</td>\n",
       "      <td>unknown</td>\n",
       "      <td>diesel</td>\n",
       "      <td>ice</td>\n",
       "      <td>no</td>\n",
       "      <td>Passenger Cars</td>\n",
       "      <td>Germany</td>\n",
       "      <td>2017.0</td>\n",
       "      <td>4450.478095</td>\n",
       "      <td>1665.893929</td>\n",
       "      <td>1827.477390</td>\n",
       "      <td>100.0</td>\n",
       "      <td>6.0</td>\n",
       "      <td>1487.802065</td>\n",
       "      <td>152.613889</td>\n",
       "      <td>6.644604</td>\n",
       "      <td>2018</td>\n",
       "      <td>1</td>\n",
       "    </tr>\n",
       "    <tr>\n",
       "      <th>51490</th>\n",
       "      <td>wagon</td>\n",
       "      <td>front</td>\n",
       "      <td>car</td>\n",
       "      <td>volvo</td>\n",
       "      <td>v90</td>\n",
       "      <td>unknown</td>\n",
       "      <td>unknown</td>\n",
       "      <td>diesel</td>\n",
       "      <td>ice</td>\n",
       "      <td>no</td>\n",
       "      <td>Passenger Cars</td>\n",
       "      <td>Germany</td>\n",
       "      <td>2015.0</td>\n",
       "      <td>4976.974275</td>\n",
       "      <td>1640.490217</td>\n",
       "      <td>1879.651810</td>\n",
       "      <td>147.0</td>\n",
       "      <td>6.0</td>\n",
       "      <td>1907.149082</td>\n",
       "      <td>221.768813</td>\n",
       "      <td>11.751667</td>\n",
       "      <td>2018</td>\n",
       "      <td>1</td>\n",
       "    </tr>\n",
       "    <tr>\n",
       "      <th>51491</th>\n",
       "      <td>hatchback</td>\n",
       "      <td>awd</td>\n",
       "      <td>car</td>\n",
       "      <td>porsche</td>\n",
       "      <td>panamera</td>\n",
       "      <td>unknown</td>\n",
       "      <td>unknown</td>\n",
       "      <td>gas</td>\n",
       "      <td>ice</td>\n",
       "      <td>no</td>\n",
       "      <td>Passenger Cars</td>\n",
       "      <td>Germany</td>\n",
       "      <td>2016.0</td>\n",
       "      <td>5001.520656</td>\n",
       "      <td>1594.463941</td>\n",
       "      <td>1920.854303</td>\n",
       "      <td>338.0</td>\n",
       "      <td>7.0</td>\n",
       "      <td>1920.638793</td>\n",
       "      <td>289.283333</td>\n",
       "      <td>12.635714</td>\n",
       "      <td>2018</td>\n",
       "      <td>1</td>\n",
       "    </tr>\n",
       "    <tr>\n",
       "      <th>51492</th>\n",
       "      <td>wagon</td>\n",
       "      <td>awd</td>\n",
       "      <td>car</td>\n",
       "      <td>volvo</td>\n",
       "      <td>v60</td>\n",
       "      <td>unknown</td>\n",
       "      <td>unknown</td>\n",
       "      <td>diesel</td>\n",
       "      <td>ice</td>\n",
       "      <td>no</td>\n",
       "      <td>Passenger Cars</td>\n",
       "      <td>Germany</td>\n",
       "      <td>2018.0</td>\n",
       "      <td>4746.358641</td>\n",
       "      <td>1644.971405</td>\n",
       "      <td>1846.995377</td>\n",
       "      <td>140.0</td>\n",
       "      <td>7.0</td>\n",
       "      <td>1782.742985</td>\n",
       "      <td>251.723279</td>\n",
       "      <td>9.460266</td>\n",
       "      <td>2018</td>\n",
       "      <td>1</td>\n",
       "    </tr>\n",
       "  </tbody>\n",
       "</table>\n",
       "<p>6111 rows × 23 columns</p>\n",
       "</div>"
      ],
      "text/plain": [
       "            Body_Type Driven_Wheels Global_Sales_Sub-Segment       Brand  \\\n",
       "vehicle_id                                                                 \n",
       "45274           coupe          rear                    sport   chevrolet   \n",
       "45275             suv          rear                      suv       foday   \n",
       "45276       hatchback           awd                      car       tesla   \n",
       "45277             suv         front                      suv         kia   \n",
       "45278             suv           awd                      suv  volkswagen   \n",
       "...               ...           ...                      ...         ...   \n",
       "51488             suv         front                      suv        seat   \n",
       "51489             suv         front                      suv     hyundai   \n",
       "51490           wagon         front                      car       volvo   \n",
       "51491       hatchback           awd                      car     porsche   \n",
       "51492           wagon           awd                      car       volvo   \n",
       "\n",
       "           Nameplate Transmission      Turbo    Fuel_Type PropSysDesign  \\\n",
       "vehicle_id                                                                \n",
       "45274         camaro       manual  non turbo          gas           ice   \n",
       "45275         lan fu       manual      turbo          gas           ice   \n",
       "45276        model s    automatic  non turbo  electricity      electric   \n",
       "45277        sorento    automatic      turbo       diesel           ice   \n",
       "45278       teramont    automatic      turbo          gas           ice   \n",
       "...              ...          ...        ...          ...           ...   \n",
       "51488        tarraco      unknown    unknown          gas           ice   \n",
       "51489           kona      unknown    unknown       diesel           ice   \n",
       "51490            v90      unknown    unknown       diesel           ice   \n",
       "51491       panamera      unknown    unknown          gas           ice   \n",
       "51492            v60      unknown    unknown       diesel           ice   \n",
       "\n",
       "           Plugin Registration_Type country_name  Generation_Year  \\\n",
       "vehicle_id                                                          \n",
       "45274          no    Passenger Cars          USA           2015.0   \n",
       "45275          no    Passenger Cars        China           2014.0   \n",
       "45276         yes    Passenger Cars      Germany           2012.0   \n",
       "45277          no    Passenger Cars        China           2014.0   \n",
       "45278          no    Passenger Cars        China           2016.0   \n",
       "...           ...               ...          ...              ...   \n",
       "51488          no    Passenger Cars      Germany           2018.0   \n",
       "51489          no    Passenger Cars      Germany           2017.0   \n",
       "51490          no    Passenger Cars      Germany           2015.0   \n",
       "51491          no    Passenger Cars      Germany           2016.0   \n",
       "51492          no    Passenger Cars      Germany           2018.0   \n",
       "\n",
       "                 Length       Height        Width  Engine_KW  No_of_Gears  \\\n",
       "vehicle_id                                                                  \n",
       "45274       4783.000000  1349.000000  1897.000000      250.0          6.0   \n",
       "45275       4771.000000  1828.000000  1870.000000      160.0          5.0   \n",
       "45276       4970.000000  1435.000000  1964.000000      449.0          0.0   \n",
       "45277       4780.000000  1685.000000  1890.000000      147.0          6.0   \n",
       "45278       5039.000000  1773.000000  1989.000000      162.0          7.0   \n",
       "...                 ...          ...          ...        ...          ...   \n",
       "51488       4867.732891  1827.178584  1890.899528      110.0          6.0   \n",
       "51489       4450.478095  1665.893929  1827.477390      100.0          6.0   \n",
       "51490       4976.974275  1640.490217  1879.651810      147.0          6.0   \n",
       "51491       5001.520656  1594.463941  1920.854303      338.0          7.0   \n",
       "51492       4746.358641  1644.971405  1846.995377      140.0          7.0   \n",
       "\n",
       "            Curb_Weight         CO2  Fuel_cons_combined  year  Price_USD  \n",
       "vehicle_id                                                                \n",
       "45274       1521.000000  268.000000           11.200000  2017          1  \n",
       "45275       1790.347059  189.352914            7.931139  2017          1  \n",
       "45276       2175.000000    0.000000            0.000000  2017          1  \n",
       "45277       1878.029422  164.815251            6.316334  2017          1  \n",
       "45278       2292.418810  301.233333           16.009000  2017          1  \n",
       "...                 ...         ...                 ...   ...        ...  \n",
       "51488       1812.814211  262.996111           13.536496  2018          1  \n",
       "51489       1487.802065  152.613889            6.644604  2018          1  \n",
       "51490       1907.149082  221.768813           11.751667  2018          1  \n",
       "51491       1920.638793  289.283333           12.635714  2018          1  \n",
       "51492       1782.742985  251.723279            9.460266  2018          1  \n",
       "\n",
       "[6111 rows x 23 columns]"
      ]
     },
     "execution_count": 47,
     "metadata": {},
     "output_type": "execute_result"
    }
   ],
   "source": [
    "df_proc_oos"
   ]
  },
  {
   "cell_type": "code",
   "execution_count": 48,
   "metadata": {},
   "outputs": [],
   "source": [
    "df_proc_oos.drop(target_name, axis=1, inplace=True)"
   ]
  },
  {
   "cell_type": "markdown",
   "execution_count": null,
   "metadata": {},
   "source": [
    "## Apply categorical encoding"
   ]
  },
  {
   "cell_type": "markdown",
   "execution_count": null,
   "metadata": {},
   "source": [
    "Again, not needed as I eventually go with Catboost."
   ]
  },
  {
   "cell_type": "code",
   "execution_count": 49,
   "metadata": {
    "ExecuteTime": {
     "end_time": "2020-05-29T14:41:19.345728Z",
     "start_time": "2020-05-29T14:41:19.332928Z"
    }
   },
   "outputs": [],
   "source": [
    "#df_comb_ext_oos = encoder.transform(df_proc_oos)"
   ]
  },
  {
   "cell_type": "code",
   "execution_count": 50,
   "metadata": {
    "ExecuteTime": {
     "end_time": "2020-05-29T14:41:19.58273Z",
     "start_time": "2020-05-29T14:41:19.577283Z"
    }
   },
   "outputs": [],
   "source": [
    "#df_comb_ext_oos.drop(target_name, axis=1, inplace=True)\n",
    "#df_comb_ext_oos = scaler.fit_transform(df_comb_ext_oos)"
   ]
  },
  {
   "cell_type": "markdown",
   "execution_count": null,
   "metadata": {},
   "source": [
    "## Apply model and produce output"
   ]
  },
  {
   "cell_type": "code",
   "execution_count": 51,
   "metadata": {
    "ExecuteTime": {
     "end_time": "2020-05-29T14:41:20.28504Z",
     "start_time": "2020-05-29T14:41:20.276823Z"
    }
   },
   "outputs": [],
   "source": [
    "#y_oos_pred = regressor.predict(df_comb_ext_oos)\n",
    "y_oos_pred = regressor.predict(df_proc_oos)"
   ]
  },
  {
   "cell_type": "code",
   "execution_count": 52,
   "metadata": {
    "ExecuteTime": {
     "end_time": "2020-05-29T14:41:20.781088Z",
     "start_time": "2020-05-29T14:41:20.765835Z"
    }
   },
   "outputs": [],
   "source": [
    "id_col = 'vehicle_id'\n",
    "df_out = (pd.DataFrame(y_oos_pred, columns=[target_name], index=df_proc_oos.index)\n",
    "            .reset_index()\n",
    "            .rename({'index': id_col}, axis=1))"
   ]
  },
  {
   "cell_type": "code",
   "execution_count": 53,
   "metadata": {
    "ExecuteTime": {
     "end_time": "2020-05-29T14:41:21.257289Z",
     "start_time": "2020-05-29T14:41:21.246814Z"
    }
   },
   "outputs": [
    {
     "data": {
      "text/html": [
       "<div>\n",
       "<style scoped>\n",
       "    .dataframe tbody tr th:only-of-type {\n",
       "        vertical-align: middle;\n",
       "    }\n",
       "\n",
       "    .dataframe tbody tr th {\n",
       "        vertical-align: top;\n",
       "    }\n",
       "\n",
       "    .dataframe thead th {\n",
       "        text-align: right;\n",
       "    }\n",
       "</style>\n",
       "<table border=\"1\" class=\"dataframe\">\n",
       "  <thead>\n",
       "    <tr style=\"text-align: right;\">\n",
       "      <th></th>\n",
       "      <th>vehicle_id</th>\n",
       "      <th>Price_USD</th>\n",
       "    </tr>\n",
       "  </thead>\n",
       "  <tbody>\n",
       "    <tr>\n",
       "      <th>0</th>\n",
       "      <td>45274</td>\n",
       "      <td>29537.127494</td>\n",
       "    </tr>\n",
       "    <tr>\n",
       "      <th>1</th>\n",
       "      <td>45275</td>\n",
       "      <td>20409.817027</td>\n",
       "    </tr>\n",
       "    <tr>\n",
       "      <th>2</th>\n",
       "      <td>45276</td>\n",
       "      <td>147952.572110</td>\n",
       "    </tr>\n",
       "    <tr>\n",
       "      <th>3</th>\n",
       "      <td>45277</td>\n",
       "      <td>36454.565301</td>\n",
       "    </tr>\n",
       "    <tr>\n",
       "      <th>4</th>\n",
       "      <td>45278</td>\n",
       "      <td>81118.952725</td>\n",
       "    </tr>\n",
       "  </tbody>\n",
       "</table>\n",
       "</div>"
      ],
      "text/plain": [
       "   vehicle_id      Price_USD\n",
       "0       45274   29537.127494\n",
       "1       45275   20409.817027\n",
       "2       45276  147952.572110\n",
       "3       45277   36454.565301\n",
       "4       45278   81118.952725"
      ]
     },
     "execution_count": 53,
     "metadata": {},
     "output_type": "execute_result"
    }
   ],
   "source": [
    "df_out.head()"
   ]
  },
  {
   "cell_type": "code",
   "execution_count": 54,
   "metadata": {
    "ExecuteTime": {
     "end_time": "2020-05-29T14:41:21.89299Z",
     "start_time": "2020-05-29T14:41:21.887175Z"
    }
   },
   "outputs": [
    {
     "data": {
      "text/plain": [
       "(6111, 2)"
      ]
     },
     "execution_count": 54,
     "metadata": {},
     "output_type": "execute_result"
    }
   ],
   "source": [
    "df_out.shape"
   ]
  },
  {
   "cell_type": "code",
   "execution_count": 55,
   "metadata": {
    "ExecuteTime": {
     "end_time": "2020-05-29T13:49:57.194287Z",
     "start_time": "2020-05-29T13:49:57.191293Z"
    }
   },
   "outputs": [],
   "source": [
    "if write_predictions_file:\n",
    "    df_out.to_csv('submission.csv', index=False)"
   ]
  },
  {
   "cell_type": "markdown",
   "execution_count": null,
   "metadata": {},
   "source": [
    "## Conclusion"
   ]
  },
  {
   "cell_type": "markdown",
   "execution_count": null,
   "metadata": {},
   "source": [
    "All in all, I was very impressed with CatBoost's performance. I did not have a chance to try out LightGBM, but comparing to XGBoost and Stochastic Gradient Boosting, CatBoost gave superior results with pretty consistent results between training and testing data, and performance is comparable (albeit I did not track closely). \n",
    "\n",
    "Next step would be to play around with the hyperparameters tuning -- With the time constraints, I did not have time to try to tinker all the parameters. My three cents:\n",
    "- CatBoost deals with categorical features pretty well and I encourage you to make use of that. The one_hot_max_size parameter also allows you to define what is the maximum number of categories. Too many categories will decrease performance of the algorithm.\n",
    "- Strike a balance between iterations and learning rate. My suggestion would be to start with a high number of iterations (so you could make use of early stopping) and small learning rate, and then slowly increase learning rate while reducing iterations."
   ]
  },
  {
   "cell_type": "code",
   "execution_count": null,
   "metadata": {},
   "outputs": [],
   "source": []
  }
 ],
 "metadata": {
  "kernelspec": {
   "display_name": "Python 3",
   "language": "python",
   "name": "python3"
  },
  "language_info": {
   "codemirror_mode": {
    "name": "ipython",
    "version": 3
   },
   "file_extension": ".py",
   "mimetype": "text/x-python",
   "name": "python",
   "nbconvert_exporter": "python",
   "pygments_lexer": "ipython3",
   "version": "3.7.6"
  },
  "widgets": {
   "application/vnd.jupyter.widget-state+json": {
    "state": {
     "1568324bb88447b98526d9fe108f1a1f": {
      "model_module": "@jupyter-widgets/controls",
      "model_module_version": "1.5.0",
      "model_name": "VBoxModel",
      "state": {
       "_dom_classes": [
        "widget-interact"
       ],
       "_model_module": "@jupyter-widgets/controls",
       "_model_module_version": "1.5.0",
       "_model_name": "VBoxModel",
       "_view_count": null,
       "_view_module": "@jupyter-widgets/controls",
       "_view_module_version": "1.5.0",
       "_view_name": "VBoxView",
       "box_style": "",
       "children": [
        "IPY_MODEL_ed2195161a32427fa143b588f2a5bd07",
        "IPY_MODEL_34a3a9a7287f47419ae529cc01176223"
       ],
       "layout": "IPY_MODEL_607184d494b744999545545cf2f18bf4"
      }
     },
     "2a0d7c4451074cf5baad1644b8a3c643": {
      "model_module": "@jupyter-widgets/output",
      "model_module_version": "1.0.0",
      "model_name": "OutputModel",
      "state": {
       "_dom_classes": [],
       "_model_module": "@jupyter-widgets/output",
       "_model_module_version": "1.0.0",
       "_model_name": "OutputModel",
       "_view_count": null,
       "_view_module": "@jupyter-widgets/output",
       "_view_module_version": "1.0.0",
       "_view_name": "OutputView",
       "layout": "IPY_MODEL_adcc4f2aa4a84f6aaa85bf8a63aae70c",
       "msg_id": "",
       "outputs": []
      }
     },
     "34a3a9a7287f47419ae529cc01176223": {
      "model_module": "@jupyter-widgets/output",
      "model_module_version": "1.0.0",
      "model_name": "OutputModel",
      "state": {
       "_dom_classes": [],
       "_model_module": "@jupyter-widgets/output",
       "_model_module_version": "1.0.0",
       "_model_name": "OutputModel",
       "_view_count": null,
       "_view_module": "@jupyter-widgets/output",
       "_view_module_version": "1.0.0",
       "_view_name": "OutputView",
       "layout": "IPY_MODEL_7e8b8b6c2d31460dbefc03081cdc085a",
       "msg_id": "",
       "outputs": []
      }
     },
     "607184d494b744999545545cf2f18bf4": {
      "model_module": "@jupyter-widgets/base",
      "model_module_version": "1.2.0",
      "model_name": "LayoutModel",
      "state": {
       "_model_module": "@jupyter-widgets/base",
       "_model_module_version": "1.2.0",
       "_model_name": "LayoutModel",
       "_view_count": null,
       "_view_module": "@jupyter-widgets/base",
       "_view_module_version": "1.2.0",
       "_view_name": "LayoutView",
       "align_content": null,
       "align_items": null,
       "align_self": null,
       "border": null,
       "bottom": null,
       "display": null,
       "flex": null,
       "flex_flow": null,
       "grid_area": null,
       "grid_auto_columns": null,
       "grid_auto_flow": null,
       "grid_auto_rows": null,
       "grid_column": null,
       "grid_gap": null,
       "grid_row": null,
       "grid_template_areas": null,
       "grid_template_columns": null,
       "grid_template_rows": null,
       "height": null,
       "justify_content": null,
       "justify_items": null,
       "left": null,
       "margin": null,
       "max_height": null,
       "max_width": null,
       "min_height": null,
       "min_width": null,
       "object_fit": null,
       "object_position": null,
       "order": null,
       "overflow": null,
       "overflow_x": null,
       "overflow_y": null,
       "padding": null,
       "right": null,
       "top": null,
       "visibility": null,
       "width": null
      }
     },
     "6267617793cc464288172494481321cd": {
      "model_module": "@jupyter-widgets/controls",
      "model_module_version": "1.5.0",
      "model_name": "DropdownModel",
      "state": {
       "_dom_classes": [],
       "_model_module": "@jupyter-widgets/controls",
       "_model_module_version": "1.5.0",
       "_model_name": "DropdownModel",
       "_options_labels": [
        "CO2",
        "Curb_Weight",
        "Engine_KW",
        "Fuel_cons_combined",
        "Generation_Year",
        "Height",
        "Length",
        "No_of_Gears",
        "Price_USD",
        "Width",
        "year"
       ],
       "_view_count": null,
       "_view_module": "@jupyter-widgets/controls",
       "_view_module_version": "1.5.0",
       "_view_name": "DropdownView",
       "description": "col",
       "description_tooltip": null,
       "disabled": false,
       "index": 0,
       "layout": "IPY_MODEL_d4d80eb58f32487ea5f57d7c1a101036",
       "style": "IPY_MODEL_e10b745fce9f4dac9428bb62540437fd"
      }
     },
     "7e8b8b6c2d31460dbefc03081cdc085a": {
      "model_module": "@jupyter-widgets/base",
      "model_module_version": "1.2.0",
      "model_name": "LayoutModel",
      "state": {
       "_model_module": "@jupyter-widgets/base",
       "_model_module_version": "1.2.0",
       "_model_name": "LayoutModel",
       "_view_count": null,
       "_view_module": "@jupyter-widgets/base",
       "_view_module_version": "1.2.0",
       "_view_name": "LayoutView",
       "align_content": null,
       "align_items": null,
       "align_self": null,
       "border": null,
       "bottom": null,
       "display": null,
       "flex": null,
       "flex_flow": null,
       "grid_area": null,
       "grid_auto_columns": null,
       "grid_auto_flow": null,
       "grid_auto_rows": null,
       "grid_column": null,
       "grid_gap": null,
       "grid_row": null,
       "grid_template_areas": null,
       "grid_template_columns": null,
       "grid_template_rows": null,
       "height": null,
       "justify_content": null,
       "justify_items": null,
       "left": null,
       "margin": null,
       "max_height": null,
       "max_width": null,
       "min_height": null,
       "min_width": null,
       "object_fit": null,
       "object_position": null,
       "order": null,
       "overflow": null,
       "overflow_x": null,
       "overflow_y": null,
       "padding": null,
       "right": null,
       "top": null,
       "visibility": null,
       "width": null
      }
     },
     "93d5036aa24044cda6174c4fb450a417": {
      "model_module": "@jupyter-widgets/base",
      "model_module_version": "1.2.0",
      "model_name": "LayoutModel",
      "state": {
       "_model_module": "@jupyter-widgets/base",
       "_model_module_version": "1.2.0",
       "_model_name": "LayoutModel",
       "_view_count": null,
       "_view_module": "@jupyter-widgets/base",
       "_view_module_version": "1.2.0",
       "_view_name": "LayoutView",
       "align_content": null,
       "align_items": null,
       "align_self": null,
       "border": null,
       "bottom": null,
       "display": null,
       "flex": null,
       "flex_flow": null,
       "grid_area": null,
       "grid_auto_columns": null,
       "grid_auto_flow": null,
       "grid_auto_rows": null,
       "grid_column": null,
       "grid_gap": null,
       "grid_row": null,
       "grid_template_areas": null,
       "grid_template_columns": null,
       "grid_template_rows": null,
       "height": null,
       "justify_content": null,
       "justify_items": null,
       "left": null,
       "margin": null,
       "max_height": null,
       "max_width": null,
       "min_height": null,
       "min_width": null,
       "object_fit": null,
       "object_position": null,
       "order": null,
       "overflow": null,
       "overflow_x": null,
       "overflow_y": null,
       "padding": null,
       "right": null,
       "top": null,
       "visibility": null,
       "width": null
      }
     },
     "96e0da9c499c4c8a987ae57e5a457ce4": {
      "model_module": "@jupyter-widgets/controls",
      "model_module_version": "1.5.0",
      "model_name": "VBoxModel",
      "state": {
       "_dom_classes": [
        "widget-interact"
       ],
       "_model_module": "@jupyter-widgets/controls",
       "_model_module_version": "1.5.0",
       "_model_name": "VBoxModel",
       "_view_count": null,
       "_view_module": "@jupyter-widgets/controls",
       "_view_module_version": "1.5.0",
       "_view_name": "VBoxView",
       "box_style": "",
       "children": [
        "IPY_MODEL_6267617793cc464288172494481321cd",
        "IPY_MODEL_2a0d7c4451074cf5baad1644b8a3c643"
       ],
       "layout": "IPY_MODEL_d08b84a954264211ac1d04270d083435"
      }
     },
     "adcc4f2aa4a84f6aaa85bf8a63aae70c": {
      "model_module": "@jupyter-widgets/base",
      "model_module_version": "1.2.0",
      "model_name": "LayoutModel",
      "state": {
       "_model_module": "@jupyter-widgets/base",
       "_model_module_version": "1.2.0",
       "_model_name": "LayoutModel",
       "_view_count": null,
       "_view_module": "@jupyter-widgets/base",
       "_view_module_version": "1.2.0",
       "_view_name": "LayoutView",
       "align_content": null,
       "align_items": null,
       "align_self": null,
       "border": null,
       "bottom": null,
       "display": null,
       "flex": null,
       "flex_flow": null,
       "grid_area": null,
       "grid_auto_columns": null,
       "grid_auto_flow": null,
       "grid_auto_rows": null,
       "grid_column": null,
       "grid_gap": null,
       "grid_row": null,
       "grid_template_areas": null,
       "grid_template_columns": null,
       "grid_template_rows": null,
       "height": null,
       "justify_content": null,
       "justify_items": null,
       "left": null,
       "margin": null,
       "max_height": null,
       "max_width": null,
       "min_height": null,
       "min_width": null,
       "object_fit": null,
       "object_position": null,
       "order": null,
       "overflow": null,
       "overflow_x": null,
       "overflow_y": null,
       "padding": null,
       "right": null,
       "top": null,
       "visibility": null,
       "width": null
      }
     },
     "d08b84a954264211ac1d04270d083435": {
      "model_module": "@jupyter-widgets/base",
      "model_module_version": "1.2.0",
      "model_name": "LayoutModel",
      "state": {
       "_model_module": "@jupyter-widgets/base",
       "_model_module_version": "1.2.0",
       "_model_name": "LayoutModel",
       "_view_count": null,
       "_view_module": "@jupyter-widgets/base",
       "_view_module_version": "1.2.0",
       "_view_name": "LayoutView",
       "align_content": null,
       "align_items": null,
       "align_self": null,
       "border": null,
       "bottom": null,
       "display": null,
       "flex": null,
       "flex_flow": null,
       "grid_area": null,
       "grid_auto_columns": null,
       "grid_auto_flow": null,
       "grid_auto_rows": null,
       "grid_column": null,
       "grid_gap": null,
       "grid_row": null,
       "grid_template_areas": null,
       "grid_template_columns": null,
       "grid_template_rows": null,
       "height": null,
       "justify_content": null,
       "justify_items": null,
       "left": null,
       "margin": null,
       "max_height": null,
       "max_width": null,
       "min_height": null,
       "min_width": null,
       "object_fit": null,
       "object_position": null,
       "order": null,
       "overflow": null,
       "overflow_x": null,
       "overflow_y": null,
       "padding": null,
       "right": null,
       "top": null,
       "visibility": null,
       "width": null
      }
     },
     "d4d80eb58f32487ea5f57d7c1a101036": {
      "model_module": "@jupyter-widgets/base",
      "model_module_version": "1.2.0",
      "model_name": "LayoutModel",
      "state": {
       "_model_module": "@jupyter-widgets/base",
       "_model_module_version": "1.2.0",
       "_model_name": "LayoutModel",
       "_view_count": null,
       "_view_module": "@jupyter-widgets/base",
       "_view_module_version": "1.2.0",
       "_view_name": "LayoutView",
       "align_content": null,
       "align_items": null,
       "align_self": null,
       "border": null,
       "bottom": null,
       "display": null,
       "flex": null,
       "flex_flow": null,
       "grid_area": null,
       "grid_auto_columns": null,
       "grid_auto_flow": null,
       "grid_auto_rows": null,
       "grid_column": null,
       "grid_gap": null,
       "grid_row": null,
       "grid_template_areas": null,
       "grid_template_columns": null,
       "grid_template_rows": null,
       "height": null,
       "justify_content": null,
       "justify_items": null,
       "left": null,
       "margin": null,
       "max_height": null,
       "max_width": null,
       "min_height": null,
       "min_width": null,
       "object_fit": null,
       "object_position": null,
       "order": null,
       "overflow": null,
       "overflow_x": null,
       "overflow_y": null,
       "padding": null,
       "right": null,
       "top": null,
       "visibility": null,
       "width": null
      }
     },
     "e10b745fce9f4dac9428bb62540437fd": {
      "model_module": "@jupyter-widgets/controls",
      "model_module_version": "1.5.0",
      "model_name": "DescriptionStyleModel",
      "state": {
       "_model_module": "@jupyter-widgets/controls",
       "_model_module_version": "1.5.0",
       "_model_name": "DescriptionStyleModel",
       "_view_count": null,
       "_view_module": "@jupyter-widgets/base",
       "_view_module_version": "1.2.0",
       "_view_name": "StyleView",
       "description_width": ""
      }
     },
     "e746fe65f72e4aa58d154e40a57b444e": {
      "model_module": "@jupyter-widgets/controls",
      "model_module_version": "1.5.0",
      "model_name": "DescriptionStyleModel",
      "state": {
       "_model_module": "@jupyter-widgets/controls",
       "_model_module_version": "1.5.0",
       "_model_name": "DescriptionStyleModel",
       "_view_count": null,
       "_view_module": "@jupyter-widgets/base",
       "_view_module_version": "1.2.0",
       "_view_name": "StyleView",
       "description_width": ""
      }
     },
     "ed2195161a32427fa143b588f2a5bd07": {
      "model_module": "@jupyter-widgets/controls",
      "model_module_version": "1.5.0",
      "model_name": "DropdownModel",
      "state": {
       "_dom_classes": [],
       "_model_module": "@jupyter-widgets/controls",
       "_model_module_version": "1.5.0",
       "_model_name": "DropdownModel",
       "_options_labels": [
        "Body_Type",
        "Driven_Wheels",
        "Global_Sales_Sub-Segment",
        "Brand",
        "Nameplate",
        "Transmission",
        "Turbo",
        "Fuel_Type",
        "PropSysDesign",
        "Plugin",
        "Registration_Type",
        "country_name"
       ],
       "_view_count": null,
       "_view_module": "@jupyter-widgets/controls",
       "_view_module_version": "1.5.0",
       "_view_name": "DropdownView",
       "description": "col",
       "description_tooltip": null,
       "disabled": false,
       "index": 0,
       "layout": "IPY_MODEL_93d5036aa24044cda6174c4fb450a417",
       "style": "IPY_MODEL_e746fe65f72e4aa58d154e40a57b444e"
      }
     }
    },
    "version_major": 2,
    "version_minor": 0
   }
  }
 },
 "nbformat": 4,
 "nbformat_minor": 4
}
